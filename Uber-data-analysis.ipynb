{
 "cells": [
  {
   "cell_type": "markdown",
   "id": "db445c7e",
   "metadata": {},
   "source": [
    "# UBER DATA ANALYSIS"
   ]
  },
  {
   "cell_type": "code",
   "execution_count": 1,
   "id": "89acc73d",
   "metadata": {},
   "outputs": [],
   "source": [
    "import numpy as np\n",
    "import pandas as pd"
   ]
  },
  {
   "cell_type": "code",
   "execution_count": 2,
   "id": "289545cb",
   "metadata": {},
   "outputs": [],
   "source": [
    "uber=pd.read_csv(r\"C:\\Users\\Dell\\OneDrive\\Documents\\jupyter\\ML project(INT247)\\excel uber data analysis.csv\")"
   ]
  },
  {
   "cell_type": "raw",
   "id": "6d579ce6",
   "metadata": {},
   "source": [
    "# Exploratory data analysis"
   ]
  },
  {
   "cell_type": "code",
   "execution_count": 3,
   "id": "8ee2d662",
   "metadata": {},
   "outputs": [
    {
     "data": {
      "text/html": [
       "<div>\n",
       "<style scoped>\n",
       "    .dataframe tbody tr th:only-of-type {\n",
       "        vertical-align: middle;\n",
       "    }\n",
       "\n",
       "    .dataframe tbody tr th {\n",
       "        vertical-align: top;\n",
       "    }\n",
       "\n",
       "    .dataframe thead th {\n",
       "        text-align: right;\n",
       "    }\n",
       "</style>\n",
       "<table border=\"1\" class=\"dataframe\">\n",
       "  <thead>\n",
       "    <tr style=\"text-align: right;\">\n",
       "      <th></th>\n",
       "      <th>id</th>\n",
       "      <th>timestamp</th>\n",
       "      <th>hour</th>\n",
       "      <th>day</th>\n",
       "      <th>month</th>\n",
       "      <th>datetime</th>\n",
       "      <th>timezone</th>\n",
       "      <th>source</th>\n",
       "      <th>destination</th>\n",
       "      <th>cab_type</th>\n",
       "      <th>...</th>\n",
       "      <th>precipIntensityMax</th>\n",
       "      <th>uvIndexTime</th>\n",
       "      <th>temperatureMin</th>\n",
       "      <th>temperatureMinTime</th>\n",
       "      <th>temperatureMax</th>\n",
       "      <th>temperatureMaxTime</th>\n",
       "      <th>apparentTemperatureMin</th>\n",
       "      <th>apparentTemperatureMinTime</th>\n",
       "      <th>apparentTemperatureMax</th>\n",
       "      <th>apparentTemperatureMaxTime</th>\n",
       "    </tr>\n",
       "  </thead>\n",
       "  <tbody>\n",
       "    <tr>\n",
       "      <th>0</th>\n",
       "      <td>424553bb-7174-41ea-aeb4-fe06d4f4b9d7</td>\n",
       "      <td>1.544953e+09</td>\n",
       "      <td>9</td>\n",
       "      <td>16</td>\n",
       "      <td>12</td>\n",
       "      <td>16-12-2018 09:30</td>\n",
       "      <td>America/New_York</td>\n",
       "      <td>Haymarket Square</td>\n",
       "      <td>North Station</td>\n",
       "      <td>Lyft</td>\n",
       "      <td>...</td>\n",
       "      <td>0.1276</td>\n",
       "      <td>1544979600</td>\n",
       "      <td>39.89</td>\n",
       "      <td>1545012000</td>\n",
       "      <td>43.68</td>\n",
       "      <td>1544968800</td>\n",
       "      <td>33.73</td>\n",
       "      <td>1545012000</td>\n",
       "      <td>38.07</td>\n",
       "      <td>1544958000</td>\n",
       "    </tr>\n",
       "    <tr>\n",
       "      <th>1</th>\n",
       "      <td>4bd23055-6827-41c6-b23b-3c491f24e74d</td>\n",
       "      <td>1.543284e+09</td>\n",
       "      <td>2</td>\n",
       "      <td>27</td>\n",
       "      <td>11</td>\n",
       "      <td>27-11-2018 02:00</td>\n",
       "      <td>America/New_York</td>\n",
       "      <td>Haymarket Square</td>\n",
       "      <td>North Station</td>\n",
       "      <td>Lyft</td>\n",
       "      <td>...</td>\n",
       "      <td>0.1300</td>\n",
       "      <td>1543251600</td>\n",
       "      <td>40.49</td>\n",
       "      <td>1543233600</td>\n",
       "      <td>47.30</td>\n",
       "      <td>1543251600</td>\n",
       "      <td>36.20</td>\n",
       "      <td>1543291200</td>\n",
       "      <td>43.92</td>\n",
       "      <td>1543251600</td>\n",
       "    </tr>\n",
       "    <tr>\n",
       "      <th>2</th>\n",
       "      <td>981a3613-77af-4620-a42a-0c0866077d1e</td>\n",
       "      <td>1.543367e+09</td>\n",
       "      <td>1</td>\n",
       "      <td>28</td>\n",
       "      <td>11</td>\n",
       "      <td>28-11-2018 01:00</td>\n",
       "      <td>America/New_York</td>\n",
       "      <td>Haymarket Square</td>\n",
       "      <td>North Station</td>\n",
       "      <td>Lyft</td>\n",
       "      <td>...</td>\n",
       "      <td>0.1064</td>\n",
       "      <td>1543338000</td>\n",
       "      <td>35.36</td>\n",
       "      <td>1543377600</td>\n",
       "      <td>47.55</td>\n",
       "      <td>1543320000</td>\n",
       "      <td>31.04</td>\n",
       "      <td>1543377600</td>\n",
       "      <td>44.12</td>\n",
       "      <td>1543320000</td>\n",
       "    </tr>\n",
       "    <tr>\n",
       "      <th>3</th>\n",
       "      <td>c2d88af2-d278-4bfd-a8d0-29ca77cc5512</td>\n",
       "      <td>1.543554e+09</td>\n",
       "      <td>4</td>\n",
       "      <td>30</td>\n",
       "      <td>11</td>\n",
       "      <td>30-11-2018 04:53</td>\n",
       "      <td>America/New_York</td>\n",
       "      <td>Haymarket Square</td>\n",
       "      <td>North Station</td>\n",
       "      <td>Lyft</td>\n",
       "      <td>...</td>\n",
       "      <td>0.0000</td>\n",
       "      <td>1543507200</td>\n",
       "      <td>34.67</td>\n",
       "      <td>1543550400</td>\n",
       "      <td>45.03</td>\n",
       "      <td>1543510800</td>\n",
       "      <td>30.30</td>\n",
       "      <td>1543550400</td>\n",
       "      <td>38.53</td>\n",
       "      <td>1543510800</td>\n",
       "    </tr>\n",
       "    <tr>\n",
       "      <th>4</th>\n",
       "      <td>e0126e1f-8ca9-4f2e-82b3-50505a09db9a</td>\n",
       "      <td>1.543463e+09</td>\n",
       "      <td>3</td>\n",
       "      <td>29</td>\n",
       "      <td>11</td>\n",
       "      <td>29-11-2018 03:49</td>\n",
       "      <td>America/New_York</td>\n",
       "      <td>Haymarket Square</td>\n",
       "      <td>North Station</td>\n",
       "      <td>Lyft</td>\n",
       "      <td>...</td>\n",
       "      <td>0.0001</td>\n",
       "      <td>1543420800</td>\n",
       "      <td>33.10</td>\n",
       "      <td>1543402800</td>\n",
       "      <td>42.18</td>\n",
       "      <td>1543420800</td>\n",
       "      <td>29.11</td>\n",
       "      <td>1543392000</td>\n",
       "      <td>35.75</td>\n",
       "      <td>1543420800</td>\n",
       "    </tr>\n",
       "  </tbody>\n",
       "</table>\n",
       "<p>5 rows × 57 columns</p>\n",
       "</div>"
      ],
      "text/plain": [
       "                                     id     timestamp  hour  day  month  \\\n",
       "0  424553bb-7174-41ea-aeb4-fe06d4f4b9d7  1.544953e+09     9   16     12   \n",
       "1  4bd23055-6827-41c6-b23b-3c491f24e74d  1.543284e+09     2   27     11   \n",
       "2  981a3613-77af-4620-a42a-0c0866077d1e  1.543367e+09     1   28     11   \n",
       "3  c2d88af2-d278-4bfd-a8d0-29ca77cc5512  1.543554e+09     4   30     11   \n",
       "4  e0126e1f-8ca9-4f2e-82b3-50505a09db9a  1.543463e+09     3   29     11   \n",
       "\n",
       "           datetime          timezone            source    destination  \\\n",
       "0  16-12-2018 09:30  America/New_York  Haymarket Square  North Station   \n",
       "1  27-11-2018 02:00  America/New_York  Haymarket Square  North Station   \n",
       "2  28-11-2018 01:00  America/New_York  Haymarket Square  North Station   \n",
       "3  30-11-2018 04:53  America/New_York  Haymarket Square  North Station   \n",
       "4  29-11-2018 03:49  America/New_York  Haymarket Square  North Station   \n",
       "\n",
       "  cab_type  ... precipIntensityMax uvIndexTime  temperatureMin  \\\n",
       "0     Lyft  ...             0.1276  1544979600           39.89   \n",
       "1     Lyft  ...             0.1300  1543251600           40.49   \n",
       "2     Lyft  ...             0.1064  1543338000           35.36   \n",
       "3     Lyft  ...             0.0000  1543507200           34.67   \n",
       "4     Lyft  ...             0.0001  1543420800           33.10   \n",
       "\n",
       "   temperatureMinTime  temperatureMax  temperatureMaxTime  \\\n",
       "0          1545012000           43.68          1544968800   \n",
       "1          1543233600           47.30          1543251600   \n",
       "2          1543377600           47.55          1543320000   \n",
       "3          1543550400           45.03          1543510800   \n",
       "4          1543402800           42.18          1543420800   \n",
       "\n",
       "   apparentTemperatureMin  apparentTemperatureMinTime  apparentTemperatureMax  \\\n",
       "0                   33.73                  1545012000                   38.07   \n",
       "1                   36.20                  1543291200                   43.92   \n",
       "2                   31.04                  1543377600                   44.12   \n",
       "3                   30.30                  1543550400                   38.53   \n",
       "4                   29.11                  1543392000                   35.75   \n",
       "\n",
       "  apparentTemperatureMaxTime  \n",
       "0                 1544958000  \n",
       "1                 1543251600  \n",
       "2                 1543320000  \n",
       "3                 1543510800  \n",
       "4                 1543420800  \n",
       "\n",
       "[5 rows x 57 columns]"
      ]
     },
     "execution_count": 3,
     "metadata": {},
     "output_type": "execute_result"
    }
   ],
   "source": [
    "uber.head()"
   ]
  },
  {
   "cell_type": "code",
   "execution_count": 4,
   "id": "82558850",
   "metadata": {},
   "outputs": [
    {
     "data": {
      "text/plain": [
       "(693071, 57)"
      ]
     },
     "execution_count": 4,
     "metadata": {},
     "output_type": "execute_result"
    }
   ],
   "source": [
    "uber.shape"
   ]
  },
  {
   "cell_type": "code",
   "execution_count": 5,
   "id": "3f292e66",
   "metadata": {
    "scrolled": true
   },
   "outputs": [
    {
     "name": "stdout",
     "output_type": "stream",
     "text": [
      "<class 'pandas.core.frame.DataFrame'>\n",
      "RangeIndex: 693071 entries, 0 to 693070\n",
      "Data columns (total 57 columns):\n",
      " #   Column                       Non-Null Count   Dtype  \n",
      "---  ------                       --------------   -----  \n",
      " 0   id                           693070 non-null  object \n",
      " 1   timestamp                    693071 non-null  float64\n",
      " 2   hour                         693071 non-null  int64  \n",
      " 3   day                          693071 non-null  int64  \n",
      " 4   month                        693071 non-null  int64  \n",
      " 5   datetime                     693071 non-null  object \n",
      " 6   timezone                     693071 non-null  object \n",
      " 7   source                       693071 non-null  object \n",
      " 8   destination                  693071 non-null  object \n",
      " 9   cab_type                     693071 non-null  object \n",
      " 10  product_id                   693071 non-null  object \n",
      " 11  name                         693071 non-null  object \n",
      " 12  price                        637976 non-null  float64\n",
      " 13  distance                     693071 non-null  float64\n",
      " 14  surge_multiplier             693071 non-null  float64\n",
      " 15  latitude                     693071 non-null  float64\n",
      " 16  longitude                    693071 non-null  float64\n",
      " 17  temperature                  693071 non-null  float64\n",
      " 18  apparentTemperature          693071 non-null  float64\n",
      " 19  short_summary                693071 non-null  object \n",
      " 20  long_summary                 693071 non-null  object \n",
      " 21  precipIntensity              693071 non-null  float64\n",
      " 22  precipProbability            693071 non-null  float64\n",
      " 23  humidity                     693071 non-null  float64\n",
      " 24  windSpeed                    693071 non-null  float64\n",
      " 25  windGust                     693071 non-null  float64\n",
      " 26  windGustTime                 693071 non-null  int64  \n",
      " 27  visibility                   693071 non-null  float64\n",
      " 28  temperatureHigh              693071 non-null  float64\n",
      " 29  temperatureHighTime          693071 non-null  int64  \n",
      " 30  temperatureLow               693071 non-null  float64\n",
      " 31  temperatureLowTime           693071 non-null  int64  \n",
      " 32  apparentTemperatureHigh      693071 non-null  float64\n",
      " 33  apparentTemperatureHighTime  693071 non-null  int64  \n",
      " 34  apparentTemperatureLow       693071 non-null  float64\n",
      " 35  apparentTemperatureLowTime   693071 non-null  int64  \n",
      " 36  icon                         693071 non-null  object \n",
      " 37  dewPoint                     693071 non-null  float64\n",
      " 38  pressure                     693071 non-null  float64\n",
      " 39  windBearing                  693071 non-null  int64  \n",
      " 40  cloudCover                   693071 non-null  float64\n",
      " 41  uvIndex                      693071 non-null  int64  \n",
      " 42  visibility.1                 693071 non-null  float64\n",
      " 43  ozone                        693071 non-null  float64\n",
      " 44  sunriseTime                  693071 non-null  int64  \n",
      " 45  sunsetTime                   693071 non-null  int64  \n",
      " 46  moonPhase                    693071 non-null  float64\n",
      " 47  precipIntensityMax           693071 non-null  float64\n",
      " 48  uvIndexTime                  693071 non-null  int64  \n",
      " 49  temperatureMin               693071 non-null  float64\n",
      " 50  temperatureMinTime           693071 non-null  int64  \n",
      " 51  temperatureMax               693071 non-null  float64\n",
      " 52  temperatureMaxTime           693071 non-null  int64  \n",
      " 53  apparentTemperatureMin       693071 non-null  float64\n",
      " 54  apparentTemperatureMinTime   693071 non-null  int64  \n",
      " 55  apparentTemperatureMax       693071 non-null  float64\n",
      " 56  apparentTemperatureMaxTime   693071 non-null  int64  \n",
      "dtypes: float64(29), int64(17), object(11)\n",
      "memory usage: 301.4+ MB\n"
     ]
    }
   ],
   "source": [
    "uber.info()"
   ]
  },
  {
   "cell_type": "code",
   "execution_count": 6,
   "id": "c817c8fc",
   "metadata": {},
   "outputs": [
    {
     "data": {
      "text/html": [
       "<div>\n",
       "<style scoped>\n",
       "    .dataframe tbody tr th:only-of-type {\n",
       "        vertical-align: middle;\n",
       "    }\n",
       "\n",
       "    .dataframe tbody tr th {\n",
       "        vertical-align: top;\n",
       "    }\n",
       "\n",
       "    .dataframe thead th {\n",
       "        text-align: right;\n",
       "    }\n",
       "</style>\n",
       "<table border=\"1\" class=\"dataframe\">\n",
       "  <thead>\n",
       "    <tr style=\"text-align: right;\">\n",
       "      <th></th>\n",
       "      <th>timestamp</th>\n",
       "      <th>hour</th>\n",
       "      <th>day</th>\n",
       "      <th>month</th>\n",
       "      <th>price</th>\n",
       "      <th>distance</th>\n",
       "      <th>surge_multiplier</th>\n",
       "      <th>latitude</th>\n",
       "      <th>longitude</th>\n",
       "      <th>temperature</th>\n",
       "      <th>...</th>\n",
       "      <th>precipIntensityMax</th>\n",
       "      <th>uvIndexTime</th>\n",
       "      <th>temperatureMin</th>\n",
       "      <th>temperatureMinTime</th>\n",
       "      <th>temperatureMax</th>\n",
       "      <th>temperatureMaxTime</th>\n",
       "      <th>apparentTemperatureMin</th>\n",
       "      <th>apparentTemperatureMinTime</th>\n",
       "      <th>apparentTemperatureMax</th>\n",
       "      <th>apparentTemperatureMaxTime</th>\n",
       "    </tr>\n",
       "  </thead>\n",
       "  <tbody>\n",
       "    <tr>\n",
       "      <th>count</th>\n",
       "      <td>6.930710e+05</td>\n",
       "      <td>693071.000000</td>\n",
       "      <td>693071.000000</td>\n",
       "      <td>693071.000000</td>\n",
       "      <td>637976.000000</td>\n",
       "      <td>693071.000000</td>\n",
       "      <td>693071.000000</td>\n",
       "      <td>693071.000000</td>\n",
       "      <td>693071.000000</td>\n",
       "      <td>693071.000000</td>\n",
       "      <td>...</td>\n",
       "      <td>693071.000000</td>\n",
       "      <td>6.930710e+05</td>\n",
       "      <td>693071.000000</td>\n",
       "      <td>6.930710e+05</td>\n",
       "      <td>693071.000000</td>\n",
       "      <td>6.930710e+05</td>\n",
       "      <td>693071.000000</td>\n",
       "      <td>6.930710e+05</td>\n",
       "      <td>693071.000000</td>\n",
       "      <td>6.930710e+05</td>\n",
       "    </tr>\n",
       "    <tr>\n",
       "      <th>mean</th>\n",
       "      <td>1.544049e+09</td>\n",
       "      <td>11.619137</td>\n",
       "      <td>17.794365</td>\n",
       "      <td>11.586684</td>\n",
       "      <td>16.545125</td>\n",
       "      <td>2.189430</td>\n",
       "      <td>1.013870</td>\n",
       "      <td>42.338172</td>\n",
       "      <td>-71.066151</td>\n",
       "      <td>39.584388</td>\n",
       "      <td>...</td>\n",
       "      <td>0.037374</td>\n",
       "      <td>1.544044e+09</td>\n",
       "      <td>33.457774</td>\n",
       "      <td>1.544042e+09</td>\n",
       "      <td>45.261313</td>\n",
       "      <td>1.544047e+09</td>\n",
       "      <td>29.731002</td>\n",
       "      <td>1.544048e+09</td>\n",
       "      <td>41.997343</td>\n",
       "      <td>1.544048e+09</td>\n",
       "    </tr>\n",
       "    <tr>\n",
       "      <th>std</th>\n",
       "      <td>7.056569e+05</td>\n",
       "      <td>6.948114</td>\n",
       "      <td>9.982286</td>\n",
       "      <td>0.492429</td>\n",
       "      <td>9.324359</td>\n",
       "      <td>1.138937</td>\n",
       "      <td>0.091641</td>\n",
       "      <td>0.047840</td>\n",
       "      <td>0.020302</td>\n",
       "      <td>6.726084</td>\n",
       "      <td>...</td>\n",
       "      <td>0.055214</td>\n",
       "      <td>6.912028e+05</td>\n",
       "      <td>6.467224</td>\n",
       "      <td>6.901954e+05</td>\n",
       "      <td>5.645046</td>\n",
       "      <td>6.901353e+05</td>\n",
       "      <td>7.110494</td>\n",
       "      <td>6.871862e+05</td>\n",
       "      <td>6.936841</td>\n",
       "      <td>6.910777e+05</td>\n",
       "    </tr>\n",
       "    <tr>\n",
       "      <th>min</th>\n",
       "      <td>1.543204e+09</td>\n",
       "      <td>0.000000</td>\n",
       "      <td>1.000000</td>\n",
       "      <td>11.000000</td>\n",
       "      <td>2.500000</td>\n",
       "      <td>0.020000</td>\n",
       "      <td>1.000000</td>\n",
       "      <td>42.214800</td>\n",
       "      <td>-71.105400</td>\n",
       "      <td>18.910000</td>\n",
       "      <td>...</td>\n",
       "      <td>0.000000</td>\n",
       "      <td>1.543162e+09</td>\n",
       "      <td>15.630000</td>\n",
       "      <td>1.543122e+09</td>\n",
       "      <td>33.510000</td>\n",
       "      <td>1.543154e+09</td>\n",
       "      <td>11.810000</td>\n",
       "      <td>1.543136e+09</td>\n",
       "      <td>28.950000</td>\n",
       "      <td>1.543187e+09</td>\n",
       "    </tr>\n",
       "    <tr>\n",
       "      <th>25%</th>\n",
       "      <td>1.543444e+09</td>\n",
       "      <td>6.000000</td>\n",
       "      <td>13.000000</td>\n",
       "      <td>11.000000</td>\n",
       "      <td>9.000000</td>\n",
       "      <td>1.280000</td>\n",
       "      <td>1.000000</td>\n",
       "      <td>42.350300</td>\n",
       "      <td>-71.081000</td>\n",
       "      <td>36.450000</td>\n",
       "      <td>...</td>\n",
       "      <td>0.000000</td>\n",
       "      <td>1.543421e+09</td>\n",
       "      <td>30.170000</td>\n",
       "      <td>1.543399e+09</td>\n",
       "      <td>42.570000</td>\n",
       "      <td>1.543439e+09</td>\n",
       "      <td>27.760000</td>\n",
       "      <td>1.543399e+09</td>\n",
       "      <td>36.570000</td>\n",
       "      <td>1.543439e+09</td>\n",
       "    </tr>\n",
       "    <tr>\n",
       "      <th>50%</th>\n",
       "      <td>1.543737e+09</td>\n",
       "      <td>12.000000</td>\n",
       "      <td>17.000000</td>\n",
       "      <td>12.000000</td>\n",
       "      <td>13.500000</td>\n",
       "      <td>2.160000</td>\n",
       "      <td>1.000000</td>\n",
       "      <td>42.351900</td>\n",
       "      <td>-71.063100</td>\n",
       "      <td>40.490000</td>\n",
       "      <td>...</td>\n",
       "      <td>0.000400</td>\n",
       "      <td>1.543770e+09</td>\n",
       "      <td>34.240000</td>\n",
       "      <td>1.543727e+09</td>\n",
       "      <td>44.680000</td>\n",
       "      <td>1.543788e+09</td>\n",
       "      <td>30.130000</td>\n",
       "      <td>1.543745e+09</td>\n",
       "      <td>40.950000</td>\n",
       "      <td>1.543788e+09</td>\n",
       "    </tr>\n",
       "    <tr>\n",
       "      <th>75%</th>\n",
       "      <td>1.544828e+09</td>\n",
       "      <td>18.000000</td>\n",
       "      <td>28.000000</td>\n",
       "      <td>12.000000</td>\n",
       "      <td>22.500000</td>\n",
       "      <td>2.920000</td>\n",
       "      <td>1.000000</td>\n",
       "      <td>42.364700</td>\n",
       "      <td>-71.054200</td>\n",
       "      <td>43.580000</td>\n",
       "      <td>...</td>\n",
       "      <td>0.091600</td>\n",
       "      <td>1.544807e+09</td>\n",
       "      <td>38.880000</td>\n",
       "      <td>1.544789e+09</td>\n",
       "      <td>46.910000</td>\n",
       "      <td>1.544814e+09</td>\n",
       "      <td>35.710000</td>\n",
       "      <td>1.544789e+09</td>\n",
       "      <td>44.120000</td>\n",
       "      <td>1.544818e+09</td>\n",
       "    </tr>\n",
       "    <tr>\n",
       "      <th>max</th>\n",
       "      <td>1.550000e+09</td>\n",
       "      <td>23.000000</td>\n",
       "      <td>30.000000</td>\n",
       "      <td>12.000000</td>\n",
       "      <td>97.500000</td>\n",
       "      <td>7.860000</td>\n",
       "      <td>3.000000</td>\n",
       "      <td>42.366100</td>\n",
       "      <td>-71.033000</td>\n",
       "      <td>57.220000</td>\n",
       "      <td>...</td>\n",
       "      <td>0.145900</td>\n",
       "      <td>1.545152e+09</td>\n",
       "      <td>43.100000</td>\n",
       "      <td>1.545192e+09</td>\n",
       "      <td>57.870000</td>\n",
       "      <td>1.545109e+09</td>\n",
       "      <td>40.050000</td>\n",
       "      <td>1.545134e+09</td>\n",
       "      <td>57.200000</td>\n",
       "      <td>1.545109e+09</td>\n",
       "    </tr>\n",
       "  </tbody>\n",
       "</table>\n",
       "<p>8 rows × 46 columns</p>\n",
       "</div>"
      ],
      "text/plain": [
       "          timestamp           hour            day          month  \\\n",
       "count  6.930710e+05  693071.000000  693071.000000  693071.000000   \n",
       "mean   1.544049e+09      11.619137      17.794365      11.586684   \n",
       "std    7.056569e+05       6.948114       9.982286       0.492429   \n",
       "min    1.543204e+09       0.000000       1.000000      11.000000   \n",
       "25%    1.543444e+09       6.000000      13.000000      11.000000   \n",
       "50%    1.543737e+09      12.000000      17.000000      12.000000   \n",
       "75%    1.544828e+09      18.000000      28.000000      12.000000   \n",
       "max    1.550000e+09      23.000000      30.000000      12.000000   \n",
       "\n",
       "               price       distance  surge_multiplier       latitude  \\\n",
       "count  637976.000000  693071.000000     693071.000000  693071.000000   \n",
       "mean       16.545125       2.189430          1.013870      42.338172   \n",
       "std         9.324359       1.138937          0.091641       0.047840   \n",
       "min         2.500000       0.020000          1.000000      42.214800   \n",
       "25%         9.000000       1.280000          1.000000      42.350300   \n",
       "50%        13.500000       2.160000          1.000000      42.351900   \n",
       "75%        22.500000       2.920000          1.000000      42.364700   \n",
       "max        97.500000       7.860000          3.000000      42.366100   \n",
       "\n",
       "           longitude    temperature  ...  precipIntensityMax   uvIndexTime  \\\n",
       "count  693071.000000  693071.000000  ...       693071.000000  6.930710e+05   \n",
       "mean      -71.066151      39.584388  ...            0.037374  1.544044e+09   \n",
       "std         0.020302       6.726084  ...            0.055214  6.912028e+05   \n",
       "min       -71.105400      18.910000  ...            0.000000  1.543162e+09   \n",
       "25%       -71.081000      36.450000  ...            0.000000  1.543421e+09   \n",
       "50%       -71.063100      40.490000  ...            0.000400  1.543770e+09   \n",
       "75%       -71.054200      43.580000  ...            0.091600  1.544807e+09   \n",
       "max       -71.033000      57.220000  ...            0.145900  1.545152e+09   \n",
       "\n",
       "       temperatureMin  temperatureMinTime  temperatureMax  temperatureMaxTime  \\\n",
       "count   693071.000000        6.930710e+05   693071.000000        6.930710e+05   \n",
       "mean        33.457774        1.544042e+09       45.261313        1.544047e+09   \n",
       "std          6.467224        6.901954e+05        5.645046        6.901353e+05   \n",
       "min         15.630000        1.543122e+09       33.510000        1.543154e+09   \n",
       "25%         30.170000        1.543399e+09       42.570000        1.543439e+09   \n",
       "50%         34.240000        1.543727e+09       44.680000        1.543788e+09   \n",
       "75%         38.880000        1.544789e+09       46.910000        1.544814e+09   \n",
       "max         43.100000        1.545192e+09       57.870000        1.545109e+09   \n",
       "\n",
       "       apparentTemperatureMin  apparentTemperatureMinTime  \\\n",
       "count           693071.000000                6.930710e+05   \n",
       "mean                29.731002                1.544048e+09   \n",
       "std                  7.110494                6.871862e+05   \n",
       "min                 11.810000                1.543136e+09   \n",
       "25%                 27.760000                1.543399e+09   \n",
       "50%                 30.130000                1.543745e+09   \n",
       "75%                 35.710000                1.544789e+09   \n",
       "max                 40.050000                1.545134e+09   \n",
       "\n",
       "       apparentTemperatureMax  apparentTemperatureMaxTime  \n",
       "count           693071.000000                6.930710e+05  \n",
       "mean                41.997343                1.544048e+09  \n",
       "std                  6.936841                6.910777e+05  \n",
       "min                 28.950000                1.543187e+09  \n",
       "25%                 36.570000                1.543439e+09  \n",
       "50%                 40.950000                1.543788e+09  \n",
       "75%                 44.120000                1.544818e+09  \n",
       "max                 57.200000                1.545109e+09  \n",
       "\n",
       "[8 rows x 46 columns]"
      ]
     },
     "execution_count": 6,
     "metadata": {},
     "output_type": "execute_result"
    }
   ],
   "source": [
    "uber.describe()"
   ]
  },
  {
   "cell_type": "code",
   "execution_count": 7,
   "id": "45adbce7",
   "metadata": {
    "scrolled": true
   },
   "outputs": [
    {
     "data": {
      "text/plain": [
       "id                                 1\n",
       "timestamp                          0\n",
       "hour                               0\n",
       "day                                0\n",
       "month                              0\n",
       "datetime                           0\n",
       "timezone                           0\n",
       "source                             0\n",
       "destination                        0\n",
       "cab_type                           0\n",
       "product_id                         0\n",
       "name                               0\n",
       "price                          55095\n",
       "distance                           0\n",
       "surge_multiplier                   0\n",
       "latitude                           0\n",
       "longitude                          0\n",
       "temperature                        0\n",
       "apparentTemperature                0\n",
       "short_summary                      0\n",
       "long_summary                       0\n",
       "precipIntensity                    0\n",
       "precipProbability                  0\n",
       "humidity                           0\n",
       "windSpeed                          0\n",
       "windGust                           0\n",
       "windGustTime                       0\n",
       "visibility                         0\n",
       "temperatureHigh                    0\n",
       "temperatureHighTime                0\n",
       "temperatureLow                     0\n",
       "temperatureLowTime                 0\n",
       "apparentTemperatureHigh            0\n",
       "apparentTemperatureHighTime        0\n",
       "apparentTemperatureLow             0\n",
       "apparentTemperatureLowTime         0\n",
       "icon                               0\n",
       "dewPoint                           0\n",
       "pressure                           0\n",
       "windBearing                        0\n",
       "cloudCover                         0\n",
       "uvIndex                            0\n",
       "visibility.1                       0\n",
       "ozone                              0\n",
       "sunriseTime                        0\n",
       "sunsetTime                         0\n",
       "moonPhase                          0\n",
       "precipIntensityMax                 0\n",
       "uvIndexTime                        0\n",
       "temperatureMin                     0\n",
       "temperatureMinTime                 0\n",
       "temperatureMax                     0\n",
       "temperatureMaxTime                 0\n",
       "apparentTemperatureMin             0\n",
       "apparentTemperatureMinTime         0\n",
       "apparentTemperatureMax             0\n",
       "apparentTemperatureMaxTime         0\n",
       "dtype: int64"
      ]
     },
     "execution_count": 7,
     "metadata": {},
     "output_type": "execute_result"
    }
   ],
   "source": [
    "uber.isnull().sum()"
   ]
  },
  {
   "cell_type": "markdown",
   "id": "d9555db0",
   "metadata": {},
   "source": [
    "# Feature Engineering"
   ]
  },
  {
   "cell_type": "code",
   "execution_count": 8,
   "id": "d7ab0bf4",
   "metadata": {},
   "outputs": [],
   "source": [
    "import matplotlib.pyplot as plt\n",
    "%matplotlib inline\n",
    "import seaborn as sns"
   ]
  },
  {
   "cell_type": "code",
   "execution_count": 9,
   "id": "4d6b4098",
   "metadata": {},
   "outputs": [
    {
     "data": {
      "text/plain": [
       "<AxesSubplot:xlabel='price', ylabel='name'>"
      ]
     },
     "execution_count": 9,
     "metadata": {},
     "output_type": "execute_result"
    },
    {
     "data": {
      "image/png": "[encoded data removed]",
      "text/plain": [
       "<Figure size 432x288 with 1 Axes>"
      ]
     },
     "metadata": {
      "needs_background": "light"
     },
     "output_type": "display_data"
    }
   ],
   "source": [
    "sns.lineplot(data=uber, x='price', y='name')"
   ]
  },
  {
   "cell_type": "code",
   "execution_count": 10,
   "id": "07d6777d",
   "metadata": {},
   "outputs": [
    {
     "data": {
      "text/plain": [
       "<AxesSubplot:xlabel='price', ylabel='icon'>"
      ]
     },
     "execution_count": 10,
     "metadata": {},
     "output_type": "execute_result"
    },
    {
     "data": {
      "image/png": "[encoded data removed]",
      "text/plain": [
       "<Figure size 432x288 with 1 Axes>"
      ]
     },
     "metadata": {
      "needs_background": "light"
     },
     "output_type": "display_data"
    }
   ],
   "source": [
    "sns.stripplot(data=uber, x='price', y='icon')"
   ]
  },
  {
   "cell_type": "code",
   "execution_count": 11,
   "id": "e9646400",
   "metadata": {},
   "outputs": [
    {
     "data": {
      "text/plain": [
       "<AxesSubplot:xlabel='surge_multiplier', ylabel='hour'>"
      ]
     },
     "execution_count": 11,
     "metadata": {},
     "output_type": "execute_result"
    },
    {
     "data": {
      "image/png": "[encoded data removed]",
      "text/plain": [
       "<Figure size 432x288 with 1 Axes>"
      ]
     },
     "metadata": {
      "needs_background": "light"
     },
     "output_type": "display_data"
    }
   ],
   "source": [
    "sns.stripplot(data=uber, x='surge_multiplier', y='hour')"
   ]
  },
  {
   "cell_type": "markdown",
   "id": "7fc3478a",
   "metadata": {},
   "source": [
    "Converting Timestamp to Datetime value"
   ]
  },
  {
   "cell_type": "code",
   "execution_count": 12,
   "id": "85171699",
   "metadata": {},
   "outputs": [
    {
     "data": {
      "text/plain": [
       "0    1.544953e+09\n",
       "1    1.543284e+09\n",
       "2    1.543367e+09\n",
       "3    1.543554e+09\n",
       "4    1.543463e+09\n",
       "Name: timestamp, dtype: float64"
      ]
     },
     "execution_count": 12,
     "metadata": {},
     "output_type": "execute_result"
    }
   ],
   "source": [
    "uber['timestamp'].head()"
   ]
  },
  {
   "cell_type": "code",
   "execution_count": 13,
   "id": "2d998fa0",
   "metadata": {},
   "outputs": [
    {
     "name": "stdout",
     "output_type": "stream",
     "text": [
      "dt_object = 2018-12-16 15:00:08\n",
      "dt_object = 2018-11-27 07:30:24\n",
      "dt_object = 2018-12-03 11:58:03\n",
      "dt_object = 2018-11-30 21:43:04\n",
      "dt_object = 2018-12-14 00:45:04\n"
     ]
    }
   ],
   "source": [
    "from datetime import datetime\n",
    "timestamp1 = 1544952608\n",
    "timestamp2 = 1543284024\n",
    "timestamp3 = 1543818483\n",
    "timestamp4 = 1543594384\n",
    "timestamp5 = 1544728504\n",
    "dt_object1 = datetime.fromtimestamp(timestamp1)\n",
    "dt_object2 = datetime.fromtimestamp(timestamp2)\n",
    "dt_object3 = datetime.fromtimestamp(timestamp3)\n",
    "dt_object4 = datetime.fromtimestamp(timestamp4)\n",
    "dt_object5 = datetime.fromtimestamp(timestamp5)\n",
    "\n",
    "print(\"dt_object =\", dt_object1)\n",
    "print(\"dt_object =\", dt_object2)\n",
    "print(\"dt_object =\", dt_object3)\n",
    "print(\"dt_object =\", dt_object4)\n",
    "print(\"dt_object =\", dt_object5)"
   ]
  },
  {
   "cell_type": "markdown",
   "id": "16e5b42a",
   "metadata": {},
   "source": [
    "# Bar plots"
   ]
  },
  {
   "cell_type": "code",
   "execution_count": 14,
   "id": "198e2df2",
   "metadata": {},
   "outputs": [
    {
     "data": {
      "text/plain": [
       "<AxesSubplot:>"
      ]
     },
     "execution_count": 14,
     "metadata": {},
     "output_type": "execute_result"
    },
    {
     "data": {
      "image/png": "[encoded data removed]",
      "text/plain": [
       "<Figure size 720x360 with 1 Axes>"
      ]
     },
     "metadata": {
      "needs_background": "light"
     },
     "output_type": "display_data"
    }
   ],
   "source": [
    "uber['month'].value_counts().plot(kind='bar', figsize=(10,5), color='blue')"
   ]
  },
  {
   "cell_type": "code",
   "execution_count": 15,
   "id": "0fe92a1a",
   "metadata": {},
   "outputs": [
    {
     "data": {
      "text/plain": [
       "<AxesSubplot:>"
      ]
     },
     "execution_count": 15,
     "metadata": {},
     "output_type": "execute_result"
    },
    {
     "data": {
      "image/png": "[encoded data removed]",
      "text/plain": [
       "<Figure size 720x360 with 1 Axes>"
      ]
     },
     "metadata": {
      "needs_background": "light"
     },
     "output_type": "display_data"
    }
   ],
   "source": [
    "uber['source'].value_counts().plot(kind='bar', figsize=(10,5), color='green')"
   ]
  },
  {
   "cell_type": "code",
   "execution_count": 16,
   "id": "b6baed10",
   "metadata": {},
   "outputs": [
    {
     "data": {
      "text/plain": [
       "<AxesSubplot:>"
      ]
     },
     "execution_count": 16,
     "metadata": {},
     "output_type": "execute_result"
    },
    {
     "data": {
      "image/png": "[encoded data removed]",
      "text/plain": [
       "<Figure size 720x360 with 1 Axes>"
      ]
     },
     "metadata": {
      "needs_background": "light"
     },
     "output_type": "display_data"
    }
   ],
   "source": [
    "uber['name'].value_counts().plot(kind='bar', figsize=(10,5), color='orange')"
   ]
  },
  {
   "cell_type": "markdown",
   "id": "e898fca3",
   "metadata": {},
   "source": [
    "\n",
    "# Label Encoding"
   ]
  },
  {
   "cell_type": "code",
   "execution_count": 17,
   "id": "b143c458",
   "metadata": {},
   "outputs": [],
   "source": [
    "# Import label encoder \n",
    "from sklearn import preprocessing \n",
    "  \n",
    "# label_encoder object knows how to understand word labels. \n",
    "label_encoder = preprocessing.LabelEncoder() "
   ]
  },
  {
   "cell_type": "code",
   "execution_count": 18,
   "id": "0649569a",
   "metadata": {
    "scrolled": true
   },
   "outputs": [
    {
     "data": {
      "text/plain": [
       "id                              object\n",
       "timestamp                      float64\n",
       "hour                             int64\n",
       "day                              int64\n",
       "month                            int64\n",
       "datetime                        object\n",
       "timezone                        object\n",
       "source                          object\n",
       "destination                     object\n",
       "cab_type                        object\n",
       "product_id                      object\n",
       "name                            object\n",
       "price                          float64\n",
       "distance                       float64\n",
       "surge_multiplier               float64\n",
       "latitude                       float64\n",
       "longitude                      float64\n",
       "temperature                    float64\n",
       "apparentTemperature            float64\n",
       "short_summary                   object\n",
       "long_summary                    object\n",
       "precipIntensity                float64\n",
       "precipProbability              float64\n",
       "humidity                       float64\n",
       "windSpeed                      float64\n",
       "windGust                       float64\n",
       "windGustTime                     int64\n",
       "visibility                     float64\n",
       "temperatureHigh                float64\n",
       "temperatureHighTime              int64\n",
       "temperatureLow                 float64\n",
       "temperatureLowTime               int64\n",
       "apparentTemperatureHigh        float64\n",
       "apparentTemperatureHighTime      int64\n",
       "apparentTemperatureLow         float64\n",
       "apparentTemperatureLowTime       int64\n",
       "icon                            object\n",
       "dewPoint                       float64\n",
       "pressure                       float64\n",
       "windBearing                      int64\n",
       "cloudCover                     float64\n",
       "uvIndex                          int64\n",
       "visibility.1                   float64\n",
       "ozone                          float64\n",
       "sunriseTime                      int64\n",
       "sunsetTime                       int64\n",
       "moonPhase                      float64\n",
       "precipIntensityMax             float64\n",
       "uvIndexTime                      int64\n",
       "temperatureMin                 float64\n",
       "temperatureMinTime               int64\n",
       "temperatureMax                 float64\n",
       "temperatureMaxTime               int64\n",
       "apparentTemperatureMin         float64\n",
       "apparentTemperatureMinTime       int64\n",
       "apparentTemperatureMax         float64\n",
       "apparentTemperatureMaxTime       int64\n",
       "dtype: object"
      ]
     },
     "execution_count": 18,
     "metadata": {},
     "output_type": "execute_result"
    }
   ],
   "source": [
    "uber.dtypes"
   ]
  },
  {
   "cell_type": "code",
   "execution_count": 19,
   "id": "f2a524b1",
   "metadata": {},
   "outputs": [],
   "source": [
    "uber['id']= label_encoder.fit_transform(uber['id']) \n",
    "uber['datetime']= label_encoder.fit_transform(uber['datetime']) \n",
    "uber['timezone']= label_encoder.fit_transform(uber['timezone'])\n",
    "uber['destination']= label_encoder.fit_transform(uber['destination']) \n",
    "uber['product_id']= label_encoder.fit_transform(uber['product_id'])\n",
    "uber['short_summary']= label_encoder.fit_transform(uber['short_summary'])\n",
    "uber['long_summary']= label_encoder.fit_transform(uber['long_summary'])"
   ]
  },
  {
   "cell_type": "code",
   "execution_count": 20,
   "id": "bc99eabf",
   "metadata": {},
   "outputs": [
    {
     "name": "stdout",
     "output_type": "stream",
     "text": [
      "Class mapping of Name: \n",
      "Black --> 0\n",
      "Black SUV --> 1\n",
      "Lux --> 2\n",
      "Lux Black --> 3\n",
      "Lux Black XL --> 4\n",
      "Lyft --> 5\n",
      "Lyft XL --> 6\n",
      "Shared --> 7\n",
      "Taxi --> 8\n",
      "UberPool --> 9\n",
      "UberX --> 10\n",
      "UberXL --> 11\n",
      "WAV --> 12\n"
     ]
    }
   ],
   "source": [
    "uber['name']= label_encoder.fit_transform(uber['name'])\n",
    "\n",
    "print(\"Class mapping of Name: \")\n",
    "for i, item in enumerate(label_encoder.classes_):\n",
    "    print(item, \"-->\", i)"
   ]
  },
  {
   "cell_type": "code",
   "execution_count": 21,
   "id": "ff1b5a34",
   "metadata": {},
   "outputs": [
    {
     "name": "stdout",
     "output_type": "stream",
     "text": [
      "Class mapping of Source: \n",
      "Back Bay --> 0\n",
      "Beacon Hill --> 1\n",
      "Boston University --> 2\n",
      "Fenway --> 3\n",
      "Financial District --> 4\n",
      "Haymarket Square --> 5\n",
      "North End --> 6\n",
      "North Station --> 7\n",
      "Northeastern University --> 8\n",
      "South Station --> 9\n",
      "Theatre District --> 10\n",
      "West End --> 11\n"
     ]
    }
   ],
   "source": [
    "uber['source']= label_encoder.fit_transform(uber['source'])\n",
    "\n",
    "print(\"Class mapping of Source: \")\n",
    "for i, item in enumerate(label_encoder.classes_):\n",
    "    print(item, \"-->\", i)"
   ]
  },
  {
   "cell_type": "code",
   "execution_count": 22,
   "id": "3f038f60",
   "metadata": {},
   "outputs": [
    {
     "name": "stdout",
     "output_type": "stream",
     "text": [
      "Class mapping of Icon: \n",
      " clear-day  --> 0\n",
      " clear-night  --> 1\n",
      " cloudy  --> 2\n",
      " fog  --> 3\n",
      " partly-cloudy-day  --> 4\n",
      " partly-cloudy-night  --> 5\n",
      " rain  --> 6\n"
     ]
    }
   ],
   "source": [
    "uber['icon']= label_encoder.fit_transform(uber['icon'])\n",
    "\n",
    "print(\"Class mapping of Icon: \")\n",
    "for i, item in enumerate(label_encoder.classes_):\n",
    "    print(item, \"-->\", i)"
   ]
  },
  {
   "cell_type": "code",
   "execution_count": 23,
   "id": "4729f693",
   "metadata": {
    "scrolled": true
   },
   "outputs": [
    {
     "data": {
      "text/plain": [
       "id                               int32\n",
       "timestamp                      float64\n",
       "hour                             int64\n",
       "day                              int64\n",
       "month                            int64\n",
       "datetime                         int32\n",
       "timezone                         int32\n",
       "source                           int32\n",
       "destination                      int32\n",
       "cab_type                        object\n",
       "product_id                       int32\n",
       "name                             int32\n",
       "price                          float64\n",
       "distance                       float64\n",
       "surge_multiplier               float64\n",
       "latitude                       float64\n",
       "longitude                      float64\n",
       "temperature                    float64\n",
       "apparentTemperature            float64\n",
       "short_summary                    int32\n",
       "long_summary                     int32\n",
       "precipIntensity                float64\n",
       "precipProbability              float64\n",
       "humidity                       float64\n",
       "windSpeed                      float64\n",
       "windGust                       float64\n",
       "windGustTime                     int64\n",
       "visibility                     float64\n",
       "temperatureHigh                float64\n",
       "temperatureHighTime              int64\n",
       "temperatureLow                 float64\n",
       "temperatureLowTime               int64\n",
       "apparentTemperatureHigh        float64\n",
       "apparentTemperatureHighTime      int64\n",
       "apparentTemperatureLow         float64\n",
       "apparentTemperatureLowTime       int64\n",
       "icon                             int32\n",
       "dewPoint                       float64\n",
       "pressure                       float64\n",
       "windBearing                      int64\n",
       "cloudCover                     float64\n",
       "uvIndex                          int64\n",
       "visibility.1                   float64\n",
       "ozone                          float64\n",
       "sunriseTime                      int64\n",
       "sunsetTime                       int64\n",
       "moonPhase                      float64\n",
       "precipIntensityMax             float64\n",
       "uvIndexTime                      int64\n",
       "temperatureMin                 float64\n",
       "temperatureMinTime               int64\n",
       "temperatureMax                 float64\n",
       "temperatureMaxTime               int64\n",
       "apparentTemperatureMin         float64\n",
       "apparentTemperatureMinTime       int64\n",
       "apparentTemperatureMax         float64\n",
       "apparentTemperatureMaxTime       int64\n",
       "dtype: object"
      ]
     },
     "execution_count": 23,
     "metadata": {},
     "output_type": "execute_result"
    }
   ],
   "source": [
    "uber.dtypes"
   ]
  },
  {
   "cell_type": "code",
   "execution_count": 24,
   "id": "ffac0916",
   "metadata": {},
   "outputs": [
    {
     "data": {
      "text/html": [
       "<div>\n",
       "<style scoped>\n",
       "    .dataframe tbody tr th:only-of-type {\n",
       "        vertical-align: middle;\n",
       "    }\n",
       "\n",
       "    .dataframe tbody tr th {\n",
       "        vertical-align: top;\n",
       "    }\n",
       "\n",
       "    .dataframe thead th {\n",
       "        text-align: right;\n",
       "    }\n",
       "</style>\n",
       "<table border=\"1\" class=\"dataframe\">\n",
       "  <thead>\n",
       "    <tr style=\"text-align: right;\">\n",
       "      <th></th>\n",
       "      <th>id</th>\n",
       "      <th>timestamp</th>\n",
       "      <th>hour</th>\n",
       "      <th>day</th>\n",
       "      <th>month</th>\n",
       "      <th>datetime</th>\n",
       "      <th>timezone</th>\n",
       "      <th>source</th>\n",
       "      <th>destination</th>\n",
       "      <th>cab_type</th>\n",
       "      <th>...</th>\n",
       "      <th>precipIntensityMax</th>\n",
       "      <th>uvIndexTime</th>\n",
       "      <th>temperatureMin</th>\n",
       "      <th>temperatureMinTime</th>\n",
       "      <th>temperatureMax</th>\n",
       "      <th>temperatureMaxTime</th>\n",
       "      <th>apparentTemperatureMin</th>\n",
       "      <th>apparentTemperatureMinTime</th>\n",
       "      <th>apparentTemperatureMax</th>\n",
       "      <th>apparentTemperatureMaxTime</th>\n",
       "    </tr>\n",
       "  </thead>\n",
       "  <tbody>\n",
       "    <tr>\n",
       "      <th>0</th>\n",
       "      <td>179271</td>\n",
       "      <td>1.544953e+09</td>\n",
       "      <td>9</td>\n",
       "      <td>16</td>\n",
       "      <td>12</td>\n",
       "      <td>2872</td>\n",
       "      <td>0</td>\n",
       "      <td>5</td>\n",
       "      <td>7</td>\n",
       "      <td>Lyft</td>\n",
       "      <td>...</td>\n",
       "      <td>0.1276</td>\n",
       "      <td>1544979600</td>\n",
       "      <td>39.89</td>\n",
       "      <td>1545012000</td>\n",
       "      <td>43.68</td>\n",
       "      <td>1544968800</td>\n",
       "      <td>33.73</td>\n",
       "      <td>1545012000</td>\n",
       "      <td>38.07</td>\n",
       "      <td>1544958000</td>\n",
       "    </tr>\n",
       "    <tr>\n",
       "      <th>1</th>\n",
       "      <td>205021</td>\n",
       "      <td>1.543284e+09</td>\n",
       "      <td>2</td>\n",
       "      <td>27</td>\n",
       "      <td>11</td>\n",
       "      <td>3960</td>\n",
       "      <td>0</td>\n",
       "      <td>5</td>\n",
       "      <td>7</td>\n",
       "      <td>Lyft</td>\n",
       "      <td>...</td>\n",
       "      <td>0.1300</td>\n",
       "      <td>1543251600</td>\n",
       "      <td>40.49</td>\n",
       "      <td>1543233600</td>\n",
       "      <td>47.30</td>\n",
       "      <td>1543251600</td>\n",
       "      <td>36.20</td>\n",
       "      <td>1543291200</td>\n",
       "      <td>43.92</td>\n",
       "      <td>1543251600</td>\n",
       "    </tr>\n",
       "    <tr>\n",
       "      <th>2</th>\n",
       "      <td>411506</td>\n",
       "      <td>1.543367e+09</td>\n",
       "      <td>1</td>\n",
       "      <td>28</td>\n",
       "      <td>11</td>\n",
       "      <td>4420</td>\n",
       "      <td>0</td>\n",
       "      <td>5</td>\n",
       "      <td>7</td>\n",
       "      <td>Lyft</td>\n",
       "      <td>...</td>\n",
       "      <td>0.1064</td>\n",
       "      <td>1543338000</td>\n",
       "      <td>35.36</td>\n",
       "      <td>1543377600</td>\n",
       "      <td>47.55</td>\n",
       "      <td>1543320000</td>\n",
       "      <td>31.04</td>\n",
       "      <td>1543377600</td>\n",
       "      <td>44.12</td>\n",
       "      <td>1543320000</td>\n",
       "    </tr>\n",
       "    <tr>\n",
       "      <th>3</th>\n",
       "      <td>527263</td>\n",
       "      <td>1.543554e+09</td>\n",
       "      <td>4</td>\n",
       "      <td>30</td>\n",
       "      <td>11</td>\n",
       "      <td>5518</td>\n",
       "      <td>0</td>\n",
       "      <td>5</td>\n",
       "      <td>7</td>\n",
       "      <td>Lyft</td>\n",
       "      <td>...</td>\n",
       "      <td>0.0000</td>\n",
       "      <td>1543507200</td>\n",
       "      <td>34.67</td>\n",
       "      <td>1543550400</td>\n",
       "      <td>45.03</td>\n",
       "      <td>1543510800</td>\n",
       "      <td>30.30</td>\n",
       "      <td>1543550400</td>\n",
       "      <td>38.53</td>\n",
       "      <td>1543510800</td>\n",
       "    </tr>\n",
       "    <tr>\n",
       "      <th>4</th>\n",
       "      <td>606526</td>\n",
       "      <td>1.543463e+09</td>\n",
       "      <td>3</td>\n",
       "      <td>29</td>\n",
       "      <td>11</td>\n",
       "      <td>4930</td>\n",
       "      <td>0</td>\n",
       "      <td>5</td>\n",
       "      <td>7</td>\n",
       "      <td>Lyft</td>\n",
       "      <td>...</td>\n",
       "      <td>0.0001</td>\n",
       "      <td>1543420800</td>\n",
       "      <td>33.10</td>\n",
       "      <td>1543402800</td>\n",
       "      <td>42.18</td>\n",
       "      <td>1543420800</td>\n",
       "      <td>29.11</td>\n",
       "      <td>1543392000</td>\n",
       "      <td>35.75</td>\n",
       "      <td>1543420800</td>\n",
       "    </tr>\n",
       "  </tbody>\n",
       "</table>\n",
       "<p>5 rows × 57 columns</p>\n",
       "</div>"
      ],
      "text/plain": [
       "       id     timestamp  hour  day  month  datetime  timezone  source  \\\n",
       "0  179271  1.544953e+09     9   16     12      2872         0       5   \n",
       "1  205021  1.543284e+09     2   27     11      3960         0       5   \n",
       "2  411506  1.543367e+09     1   28     11      4420         0       5   \n",
       "3  527263  1.543554e+09     4   30     11      5518         0       5   \n",
       "4  606526  1.543463e+09     3   29     11      4930         0       5   \n",
       "\n",
       "   destination cab_type  ...  precipIntensityMax  uvIndexTime  temperatureMin  \\\n",
       "0            7     Lyft  ...              0.1276   1544979600           39.89   \n",
       "1            7     Lyft  ...              0.1300   1543251600           40.49   \n",
       "2            7     Lyft  ...              0.1064   1543338000           35.36   \n",
       "3            7     Lyft  ...              0.0000   1543507200           34.67   \n",
       "4            7     Lyft  ...              0.0001   1543420800           33.10   \n",
       "\n",
       "   temperatureMinTime  temperatureMax  temperatureMaxTime  \\\n",
       "0          1545012000           43.68          1544968800   \n",
       "1          1543233600           47.30          1543251600   \n",
       "2          1543377600           47.55          1543320000   \n",
       "3          1543550400           45.03          1543510800   \n",
       "4          1543402800           42.18          1543420800   \n",
       "\n",
       "   apparentTemperatureMin  apparentTemperatureMinTime  apparentTemperatureMax  \\\n",
       "0                   33.73                  1545012000                   38.07   \n",
       "1                   36.20                  1543291200                   43.92   \n",
       "2                   31.04                  1543377600                   44.12   \n",
       "3                   30.30                  1543550400                   38.53   \n",
       "4                   29.11                  1543392000                   35.75   \n",
       "\n",
       "   apparentTemperatureMaxTime  \n",
       "0                  1544958000  \n",
       "1                  1543251600  \n",
       "2                  1543320000  \n",
       "3                  1543510800  \n",
       "4                  1543420800  \n",
       "\n",
       "[5 rows x 57 columns]"
      ]
     },
     "execution_count": 24,
     "metadata": {},
     "output_type": "execute_result"
    }
   ],
   "source": [
    "uber.head()"
   ]
  },
  {
   "cell_type": "markdown",
   "id": "a5593c36",
   "metadata": {},
   "source": [
    "Filling NAN Values"
   ]
  },
  {
   "cell_type": "code",
   "execution_count": 25,
   "id": "8cea2506",
   "metadata": {
    "scrolled": true
   },
   "outputs": [
    {
     "data": {
      "text/plain": [
       "id                                 0\n",
       "timestamp                          0\n",
       "hour                               0\n",
       "day                                0\n",
       "month                              0\n",
       "datetime                           0\n",
       "timezone                           0\n",
       "source                             0\n",
       "destination                        0\n",
       "cab_type                           0\n",
       "product_id                         0\n",
       "name                               0\n",
       "price                          55095\n",
       "distance                           0\n",
       "surge_multiplier                   0\n",
       "latitude                           0\n",
       "longitude                          0\n",
       "temperature                        0\n",
       "apparentTemperature                0\n",
       "short_summary                      0\n",
       "long_summary                       0\n",
       "precipIntensity                    0\n",
       "precipProbability                  0\n",
       "humidity                           0\n",
       "windSpeed                          0\n",
       "windGust                           0\n",
       "windGustTime                       0\n",
       "visibility                         0\n",
       "temperatureHigh                    0\n",
       "temperatureHighTime                0\n",
       "temperatureLow                     0\n",
       "temperatureLowTime                 0\n",
       "apparentTemperatureHigh            0\n",
       "apparentTemperatureHighTime        0\n",
       "apparentTemperatureLow             0\n",
       "apparentTemperatureLowTime         0\n",
       "icon                               0\n",
       "dewPoint                           0\n",
       "pressure                           0\n",
       "windBearing                        0\n",
       "cloudCover                         0\n",
       "uvIndex                            0\n",
       "visibility.1                       0\n",
       "ozone                              0\n",
       "sunriseTime                        0\n",
       "sunsetTime                         0\n",
       "moonPhase                          0\n",
       "precipIntensityMax                 0\n",
       "uvIndexTime                        0\n",
       "temperatureMin                     0\n",
       "temperatureMinTime                 0\n",
       "temperatureMax                     0\n",
       "temperatureMaxTime                 0\n",
       "apparentTemperatureMin             0\n",
       "apparentTemperatureMinTime         0\n",
       "apparentTemperatureMax             0\n",
       "apparentTemperatureMaxTime         0\n",
       "dtype: int64"
      ]
     },
     "execution_count": 25,
     "metadata": {},
     "output_type": "execute_result"
    }
   ],
   "source": [
    "uber.isnull().sum()"
   ]
  },
  {
   "cell_type": "code",
   "execution_count": 26,
   "id": "4384029e",
   "metadata": {},
   "outputs": [
    {
     "data": {
      "text/plain": [
       "13.5"
      ]
     },
     "execution_count": 26,
     "metadata": {},
     "output_type": "execute_result"
    }
   ],
   "source": [
    "uber['price'].median()"
   ]
  },
  {
   "cell_type": "code",
   "execution_count": 27,
   "id": "207b2703",
   "metadata": {},
   "outputs": [],
   "source": [
    "uber[\"price\"].fillna(13.5, inplace = True) "
   ]
  },
  {
   "cell_type": "code",
   "execution_count": 28,
   "id": "1ea4ca78",
   "metadata": {
    "scrolled": true
   },
   "outputs": [
    {
     "data": {
      "text/plain": [
       "id                             0\n",
       "timestamp                      0\n",
       "hour                           0\n",
       "day                            0\n",
       "month                          0\n",
       "datetime                       0\n",
       "timezone                       0\n",
       "source                         0\n",
       "destination                    0\n",
       "cab_type                       0\n",
       "product_id                     0\n",
       "name                           0\n",
       "price                          0\n",
       "distance                       0\n",
       "surge_multiplier               0\n",
       "latitude                       0\n",
       "longitude                      0\n",
       "temperature                    0\n",
       "apparentTemperature            0\n",
       "short_summary                  0\n",
       "long_summary                   0\n",
       "precipIntensity                0\n",
       "precipProbability              0\n",
       "humidity                       0\n",
       "windSpeed                      0\n",
       "windGust                       0\n",
       "windGustTime                   0\n",
       "visibility                     0\n",
       "temperatureHigh                0\n",
       "temperatureHighTime            0\n",
       "temperatureLow                 0\n",
       "temperatureLowTime             0\n",
       "apparentTemperatureHigh        0\n",
       "apparentTemperatureHighTime    0\n",
       "apparentTemperatureLow         0\n",
       "apparentTemperatureLowTime     0\n",
       "icon                           0\n",
       "dewPoint                       0\n",
       "pressure                       0\n",
       "windBearing                    0\n",
       "cloudCover                     0\n",
       "uvIndex                        0\n",
       "visibility.1                   0\n",
       "ozone                          0\n",
       "sunriseTime                    0\n",
       "sunsetTime                     0\n",
       "moonPhase                      0\n",
       "precipIntensityMax             0\n",
       "uvIndexTime                    0\n",
       "temperatureMin                 0\n",
       "temperatureMinTime             0\n",
       "temperatureMax                 0\n",
       "temperatureMaxTime             0\n",
       "apparentTemperatureMin         0\n",
       "apparentTemperatureMinTime     0\n",
       "apparentTemperatureMax         0\n",
       "apparentTemperatureMaxTime     0\n",
       "dtype: int64"
      ]
     },
     "execution_count": 28,
     "metadata": {},
     "output_type": "execute_result"
    }
   ],
   "source": [
    "uber.isnull().sum()"
   ]
  },
  {
   "cell_type": "code",
   "execution_count": 29,
   "id": "2e9a570c",
   "metadata": {},
   "outputs": [
    {
     "data": {
      "text/plain": [
       "dtype('float64')"
      ]
     },
     "execution_count": 29,
     "metadata": {},
     "output_type": "execute_result"
    }
   ],
   "source": [
    "uber['timestamp'].dtype"
   ]
  },
  {
   "cell_type": "code",
   "execution_count": 30,
   "id": "c791099b",
   "metadata": {},
   "outputs": [],
   "source": [
    "uber['timestamp'] = uber['timestamp'].astype(int)"
   ]
  },
  {
   "cell_type": "code",
   "execution_count": 31,
   "id": "66260ee8",
   "metadata": {},
   "outputs": [
    {
     "data": {
      "text/plain": [
       "0    1544952608\n",
       "1    1543284024\n",
       "2    1543366822\n",
       "3    1543553583\n",
       "4    1543463360\n",
       "Name: timestamp, dtype: int32"
      ]
     },
     "execution_count": 31,
     "metadata": {},
     "output_type": "execute_result"
    }
   ],
   "source": [
    "uber['timestamp'].head()"
   ]
  },
  {
   "cell_type": "code",
   "execution_count": 32,
   "id": "fe40b87f",
   "metadata": {},
   "outputs": [
    {
     "data": {
      "text/plain": [
       "dtype('float64')"
      ]
     },
     "execution_count": 32,
     "metadata": {},
     "output_type": "execute_result"
    }
   ],
   "source": [
    "uber['price'].dtype"
   ]
  },
  {
   "cell_type": "code",
   "execution_count": 33,
   "id": "e7672763",
   "metadata": {},
   "outputs": [],
   "source": [
    "uber['price'] = uber['price'].astype(int)"
   ]
  },
  {
   "cell_type": "code",
   "execution_count": 34,
   "id": "17cad775",
   "metadata": {},
   "outputs": [
    {
     "data": {
      "text/plain": [
       "0     5\n",
       "1    11\n",
       "2     7\n",
       "3    26\n",
       "4     9\n",
       "Name: price, dtype: int32"
      ]
     },
     "execution_count": 34,
     "metadata": {},
     "output_type": "execute_result"
    }
   ],
   "source": [
    "uber['price'].head()"
   ]
  },
  {
   "cell_type": "markdown",
   "id": "2eb76156",
   "metadata": {},
   "source": [
    "# ML model"
   ]
  },
  {
   "cell_type": "code",
   "execution_count": 35,
   "id": "633bd40d",
   "metadata": {},
   "outputs": [],
   "source": [
    "from sklearn.model_selection import train_test_split\n",
    "from sklearn.metrics import accuracy_score"
   ]
  },
  {
   "cell_type": "code",
   "execution_count": 36,
   "id": "df969ae2",
   "metadata": {},
   "outputs": [],
   "source": [
    "from sklearn.linear_model import LinearRegression\n",
    "from sklearn.tree import DecisionTreeRegressor\n",
    "from sklearn.ensemble import RandomForestRegressor"
   ]
  },
  {
   "cell_type": "code",
   "execution_count": 37,
   "id": "e4109d60",
   "metadata": {},
   "outputs": [],
   "source": [
    "X = uber.drop('price', axis = 1)\n",
    "y = uber['price']"
   ]
  },
  {
   "cell_type": "code",
   "execution_count": 38,
   "id": "56bc4792",
   "metadata": {},
   "outputs": [],
   "source": [
    "X = uber.drop('cab_type', axis = 1)"
   ]
  },
  {
   "cell_type": "code",
   "execution_count": 39,
   "id": "f65679d2",
   "metadata": {},
   "outputs": [
    {
     "data": {
      "text/html": [
       "<div>\n",
       "<style scoped>\n",
       "    .dataframe tbody tr th:only-of-type {\n",
       "        vertical-align: middle;\n",
       "    }\n",
       "\n",
       "    .dataframe tbody tr th {\n",
       "        vertical-align: top;\n",
       "    }\n",
       "\n",
       "    .dataframe thead th {\n",
       "        text-align: right;\n",
       "    }\n",
       "</style>\n",
       "<table border=\"1\" class=\"dataframe\">\n",
       "  <thead>\n",
       "    <tr style=\"text-align: right;\">\n",
       "      <th></th>\n",
       "      <th>id</th>\n",
       "      <th>timestamp</th>\n",
       "      <th>hour</th>\n",
       "      <th>day</th>\n",
       "      <th>month</th>\n",
       "      <th>datetime</th>\n",
       "      <th>timezone</th>\n",
       "      <th>source</th>\n",
       "      <th>destination</th>\n",
       "      <th>product_id</th>\n",
       "      <th>...</th>\n",
       "      <th>precipIntensityMax</th>\n",
       "      <th>uvIndexTime</th>\n",
       "      <th>temperatureMin</th>\n",
       "      <th>temperatureMinTime</th>\n",
       "      <th>temperatureMax</th>\n",
       "      <th>temperatureMaxTime</th>\n",
       "      <th>apparentTemperatureMin</th>\n",
       "      <th>apparentTemperatureMinTime</th>\n",
       "      <th>apparentTemperatureMax</th>\n",
       "      <th>apparentTemperatureMaxTime</th>\n",
       "    </tr>\n",
       "  </thead>\n",
       "  <tbody>\n",
       "    <tr>\n",
       "      <th>0</th>\n",
       "      <td>179271</td>\n",
       "      <td>1544952608</td>\n",
       "      <td>9</td>\n",
       "      <td>16</td>\n",
       "      <td>12</td>\n",
       "      <td>2872</td>\n",
       "      <td>0</td>\n",
       "      <td>5</td>\n",
       "      <td>7</td>\n",
       "      <td>8</td>\n",
       "      <td>...</td>\n",
       "      <td>0.1276</td>\n",
       "      <td>1544979600</td>\n",
       "      <td>39.89</td>\n",
       "      <td>1545012000</td>\n",
       "      <td>43.68</td>\n",
       "      <td>1544968800</td>\n",
       "      <td>33.73</td>\n",
       "      <td>1545012000</td>\n",
       "      <td>38.07</td>\n",
       "      <td>1544958000</td>\n",
       "    </tr>\n",
       "    <tr>\n",
       "      <th>1</th>\n",
       "      <td>205021</td>\n",
       "      <td>1543284024</td>\n",
       "      <td>2</td>\n",
       "      <td>27</td>\n",
       "      <td>11</td>\n",
       "      <td>3960</td>\n",
       "      <td>0</td>\n",
       "      <td>5</td>\n",
       "      <td>7</td>\n",
       "      <td>12</td>\n",
       "      <td>...</td>\n",
       "      <td>0.1300</td>\n",
       "      <td>1543251600</td>\n",
       "      <td>40.49</td>\n",
       "      <td>1543233600</td>\n",
       "      <td>47.30</td>\n",
       "      <td>1543251600</td>\n",
       "      <td>36.20</td>\n",
       "      <td>1543291200</td>\n",
       "      <td>43.92</td>\n",
       "      <td>1543251600</td>\n",
       "    </tr>\n",
       "    <tr>\n",
       "      <th>2</th>\n",
       "      <td>411506</td>\n",
       "      <td>1543366822</td>\n",
       "      <td>1</td>\n",
       "      <td>28</td>\n",
       "      <td>11</td>\n",
       "      <td>4420</td>\n",
       "      <td>0</td>\n",
       "      <td>5</td>\n",
       "      <td>7</td>\n",
       "      <td>7</td>\n",
       "      <td>...</td>\n",
       "      <td>0.1064</td>\n",
       "      <td>1543338000</td>\n",
       "      <td>35.36</td>\n",
       "      <td>1543377600</td>\n",
       "      <td>47.55</td>\n",
       "      <td>1543320000</td>\n",
       "      <td>31.04</td>\n",
       "      <td>1543377600</td>\n",
       "      <td>44.12</td>\n",
       "      <td>1543320000</td>\n",
       "    </tr>\n",
       "    <tr>\n",
       "      <th>3</th>\n",
       "      <td>527263</td>\n",
       "      <td>1543553583</td>\n",
       "      <td>4</td>\n",
       "      <td>30</td>\n",
       "      <td>11</td>\n",
       "      <td>5518</td>\n",
       "      <td>0</td>\n",
       "      <td>5</td>\n",
       "      <td>7</td>\n",
       "      <td>10</td>\n",
       "      <td>...</td>\n",
       "      <td>0.0000</td>\n",
       "      <td>1543507200</td>\n",
       "      <td>34.67</td>\n",
       "      <td>1543550400</td>\n",
       "      <td>45.03</td>\n",
       "      <td>1543510800</td>\n",
       "      <td>30.30</td>\n",
       "      <td>1543550400</td>\n",
       "      <td>38.53</td>\n",
       "      <td>1543510800</td>\n",
       "    </tr>\n",
       "    <tr>\n",
       "      <th>4</th>\n",
       "      <td>606526</td>\n",
       "      <td>1543463360</td>\n",
       "      <td>3</td>\n",
       "      <td>29</td>\n",
       "      <td>11</td>\n",
       "      <td>4930</td>\n",
       "      <td>0</td>\n",
       "      <td>5</td>\n",
       "      <td>7</td>\n",
       "      <td>11</td>\n",
       "      <td>...</td>\n",
       "      <td>0.0001</td>\n",
       "      <td>1543420800</td>\n",
       "      <td>33.10</td>\n",
       "      <td>1543402800</td>\n",
       "      <td>42.18</td>\n",
       "      <td>1543420800</td>\n",
       "      <td>29.11</td>\n",
       "      <td>1543392000</td>\n",
       "      <td>35.75</td>\n",
       "      <td>1543420800</td>\n",
       "    </tr>\n",
       "  </tbody>\n",
       "</table>\n",
       "<p>5 rows × 56 columns</p>\n",
       "</div>"
      ],
      "text/plain": [
       "       id   timestamp  hour  day  month  datetime  timezone  source  \\\n",
       "0  179271  1544952608     9   16     12      2872         0       5   \n",
       "1  205021  1543284024     2   27     11      3960         0       5   \n",
       "2  411506  1543366822     1   28     11      4420         0       5   \n",
       "3  527263  1543553583     4   30     11      5518         0       5   \n",
       "4  606526  1543463360     3   29     11      4930         0       5   \n",
       "\n",
       "   destination  product_id  ...  precipIntensityMax  uvIndexTime  \\\n",
       "0            7           8  ...              0.1276   1544979600   \n",
       "1            7          12  ...              0.1300   1543251600   \n",
       "2            7           7  ...              0.1064   1543338000   \n",
       "3            7          10  ...              0.0000   1543507200   \n",
       "4            7          11  ...              0.0001   1543420800   \n",
       "\n",
       "   temperatureMin  temperatureMinTime  temperatureMax  temperatureMaxTime  \\\n",
       "0           39.89          1545012000           43.68          1544968800   \n",
       "1           40.49          1543233600           47.30          1543251600   \n",
       "2           35.36          1543377600           47.55          1543320000   \n",
       "3           34.67          1543550400           45.03          1543510800   \n",
       "4           33.10          1543402800           42.18          1543420800   \n",
       "\n",
       "   apparentTemperatureMin  apparentTemperatureMinTime  apparentTemperatureMax  \\\n",
       "0                   33.73                  1545012000                   38.07   \n",
       "1                   36.20                  1543291200                   43.92   \n",
       "2                   31.04                  1543377600                   44.12   \n",
       "3                   30.30                  1543550400                   38.53   \n",
       "4                   29.11                  1543392000                   35.75   \n",
       "\n",
       "   apparentTemperatureMaxTime  \n",
       "0                  1544958000  \n",
       "1                  1543251600  \n",
       "2                  1543320000  \n",
       "3                  1543510800  \n",
       "4                  1543420800  \n",
       "\n",
       "[5 rows x 56 columns]"
      ]
     },
     "execution_count": 39,
     "metadata": {},
     "output_type": "execute_result"
    }
   ],
   "source": [
    "X.head()"
   ]
  },
  {
   "cell_type": "code",
   "execution_count": 40,
   "id": "59d07405",
   "metadata": {},
   "outputs": [
    {
     "data": {
      "text/plain": [
       "0     5\n",
       "1    11\n",
       "2     7\n",
       "3    26\n",
       "4     9\n",
       "Name: price, dtype: int32"
      ]
     },
     "execution_count": 40,
     "metadata": {},
     "output_type": "execute_result"
    }
   ],
   "source": [
    "y.head()"
   ]
  },
  {
   "cell_type": "code",
   "execution_count": 41,
   "id": "415dbe2d",
   "metadata": {},
   "outputs": [
    {
     "data": {
      "text/plain": [
       "(693071, 56)"
      ]
     },
     "execution_count": 41,
     "metadata": {},
     "output_type": "execute_result"
    }
   ],
   "source": [
    "X.shape"
   ]
  },
  {
   "cell_type": "code",
   "execution_count": 42,
   "id": "cd1c5e8c",
   "metadata": {},
   "outputs": [
    {
     "data": {
      "text/plain": [
       "(693071,)"
      ]
     },
     "execution_count": 42,
     "metadata": {},
     "output_type": "execute_result"
    }
   ],
   "source": [
    "y.shape"
   ]
  },
  {
   "cell_type": "code",
   "execution_count": 43,
   "id": "42a35369",
   "metadata": {},
   "outputs": [],
   "source": [
    "X_train, X_test, y_train, y_test = train_test_split(X, y, test_size = 0.2, random_state = 42)"
   ]
  },
  {
   "cell_type": "code",
   "execution_count": 44,
   "id": "1d81a2be",
   "metadata": {},
   "outputs": [
    {
     "data": {
      "text/plain": [
       "(554456, 56)"
      ]
     },
     "execution_count": 44,
     "metadata": {},
     "output_type": "execute_result"
    }
   ],
   "source": [
    "X_train.shape"
   ]
  },
  {
   "cell_type": "code",
   "execution_count": 45,
   "id": "d1b8383c",
   "metadata": {},
   "outputs": [
    {
     "data": {
      "text/plain": [
       "(138615, 56)"
      ]
     },
     "execution_count": 45,
     "metadata": {},
     "output_type": "execute_result"
    }
   ],
   "source": [
    "X_test.shape"
   ]
  },
  {
   "cell_type": "code",
   "execution_count": 46,
   "id": "7a647a15",
   "metadata": {},
   "outputs": [
    {
     "data": {
      "text/plain": [
       "(554456,)"
      ]
     },
     "execution_count": 46,
     "metadata": {},
     "output_type": "execute_result"
    }
   ],
   "source": [
    "y_train.shape"
   ]
  },
  {
   "cell_type": "code",
   "execution_count": 47,
   "id": "2f4db132",
   "metadata": {},
   "outputs": [
    {
     "data": {
      "text/plain": [
       "(138615,)"
      ]
     },
     "execution_count": 47,
     "metadata": {},
     "output_type": "execute_result"
    }
   ],
   "source": [
    "y_test.shape"
   ]
  },
  {
   "cell_type": "code",
   "execution_count": 48,
   "id": "7a850238",
   "metadata": {},
   "outputs": [],
   "source": [
    "#Creating model\n",
    "reg1 = LinearRegression()\n",
    "#Fitting training data\n",
    "reg1 = reg1.fit(X_train, y_train)"
   ]
  },
  {
   "cell_type": "code",
   "execution_count": 49,
   "id": "24e99d98",
   "metadata": {},
   "outputs": [
    {
     "data": {
      "text/plain": [
       "1.0"
      ]
     },
     "execution_count": 49,
     "metadata": {},
     "output_type": "execute_result"
    }
   ],
   "source": [
    "reg1.score(X_train, y_train)"
   ]
  },
  {
   "cell_type": "code",
   "execution_count": 50,
   "id": "bfacfa76",
   "metadata": {},
   "outputs": [],
   "source": [
    "X_train, X_test, y_train, y_test = train_test_split(X, y, test_size = 0.3, random_state = 20,)"
   ]
  },
  {
   "cell_type": "code",
   "execution_count": 51,
   "id": "eb1bb71c",
   "metadata": {},
   "outputs": [
    {
     "data": {
      "text/plain": [
       "(485149, 56)"
      ]
     },
     "execution_count": 51,
     "metadata": {},
     "output_type": "execute_result"
    }
   ],
   "source": [
    "X_train.shape"
   ]
  },
  {
   "cell_type": "code",
   "execution_count": 52,
   "id": "a51a7d47",
   "metadata": {},
   "outputs": [],
   "source": [
    "#Creating model\n",
    "reg = LinearRegression()\n",
    "#Fitting training data\n",
    "reg = reg1.fit(X_train, y_train)\n",
    "#Y prediction\n",
    "Y_pred = reg.predict(X_test)"
   ]
  },
  {
   "cell_type": "code",
   "execution_count": 53,
   "id": "19414ea2",
   "metadata": {},
   "outputs": [
    {
     "data": {
      "text/plain": [
       "1.0"
      ]
     },
     "execution_count": 53,
     "metadata": {},
     "output_type": "execute_result"
    }
   ],
   "source": [
    "reg1.score(X_train, y_train)"
   ]
  },
  {
   "cell_type": "code",
   "execution_count": 54,
   "id": "e4c4e192",
   "metadata": {},
   "outputs": [],
   "source": [
    "from sklearn.feature_selection import RFE"
   ]
  },
  {
   "cell_type": "markdown",
   "id": "c3994383",
   "metadata": {},
   "source": [
    "Training accuracy in 40 features"
   ]
  },
  {
   "cell_type": "code",
   "execution_count": 55,
   "id": "93c8c256",
   "metadata": {},
   "outputs": [
    {
     "name": "stderr",
     "output_type": "stream",
     "text": [
      "C:\\Users\\Dell\\anaconda3\\lib\\site-packages\\sklearn\\utils\\validation.py:70: FutureWarning: Pass n_features_to_select=40 as keyword args. From version 1.0 (renaming of 0.25) passing these as positional arguments will result in an error\n",
      "  warnings.warn(f\"Pass {args_msg} as keyword args. From version \"\n"
     ]
    },
    {
     "name": "stdout",
     "output_type": "stream",
     "text": [
      "Fitting estimator with 56 features.\n",
      "Fitting estimator with 55 features.\n",
      "Fitting estimator with 54 features.\n",
      "Fitting estimator with 53 features.\n",
      "Fitting estimator with 52 features.\n",
      "Fitting estimator with 51 features.\n",
      "Fitting estimator with 50 features.\n",
      "Fitting estimator with 49 features.\n",
      "Fitting estimator with 48 features.\n",
      "Fitting estimator with 47 features.\n",
      "Fitting estimator with 46 features.\n",
      "Fitting estimator with 45 features.\n",
      "Fitting estimator with 44 features.\n",
      "Fitting estimator with 43 features.\n",
      "Fitting estimator with 42 features.\n",
      "Fitting estimator with 41 features.\n"
     ]
    }
   ],
   "source": [
    "rfe = RFE(reg, 40, verbose=1)    #verbose = 1, which includes both progress bar and one line per epoch\n",
    "rfe = rfe.fit(X, y)"
   ]
  },
  {
   "cell_type": "code",
   "execution_count": 56,
   "id": "3c85ca66",
   "metadata": {},
   "outputs": [
    {
     "data": {
      "text/plain": [
       "array([False, False,  True,  True,  True, False,  True,  True,  True,\n",
       "        True,  True,  True,  True,  True,  True,  True,  True,  True,\n",
       "        True,  True,  True,  True,  True, False,  True, False,  True,\n",
       "        True, False,  True, False,  True, False,  True, False,  True,\n",
       "        True,  True,  True,  True,  True,  True,  True, False, False,\n",
       "        True,  True, False,  True, False,  True, False,  True, False,\n",
       "        True, False])"
      ]
     },
     "execution_count": 56,
     "metadata": {},
     "output_type": "execute_result"
    }
   ],
   "source": [
    "rfe.support_"
   ]
  },
  {
   "cell_type": "code",
   "execution_count": 57,
   "id": "d2684732",
   "metadata": {},
   "outputs": [],
   "source": [
    "XX = X[X.columns[rfe.support_]]"
   ]
  },
  {
   "cell_type": "code",
   "execution_count": 58,
   "id": "720263f6",
   "metadata": {},
   "outputs": [
    {
     "data": {
      "text/html": [
       "<div>\n",
       "<style scoped>\n",
       "    .dataframe tbody tr th:only-of-type {\n",
       "        vertical-align: middle;\n",
       "    }\n",
       "\n",
       "    .dataframe tbody tr th {\n",
       "        vertical-align: top;\n",
       "    }\n",
       "\n",
       "    .dataframe thead th {\n",
       "        text-align: right;\n",
       "    }\n",
       "</style>\n",
       "<table border=\"1\" class=\"dataframe\">\n",
       "  <thead>\n",
       "    <tr style=\"text-align: right;\">\n",
       "      <th></th>\n",
       "      <th>hour</th>\n",
       "      <th>day</th>\n",
       "      <th>month</th>\n",
       "      <th>timezone</th>\n",
       "      <th>source</th>\n",
       "      <th>destination</th>\n",
       "      <th>product_id</th>\n",
       "      <th>name</th>\n",
       "      <th>price</th>\n",
       "      <th>distance</th>\n",
       "      <th>...</th>\n",
       "      <th>cloudCover</th>\n",
       "      <th>uvIndex</th>\n",
       "      <th>visibility.1</th>\n",
       "      <th>ozone</th>\n",
       "      <th>moonPhase</th>\n",
       "      <th>precipIntensityMax</th>\n",
       "      <th>temperatureMin</th>\n",
       "      <th>temperatureMax</th>\n",
       "      <th>apparentTemperatureMin</th>\n",
       "      <th>apparentTemperatureMax</th>\n",
       "    </tr>\n",
       "  </thead>\n",
       "  <tbody>\n",
       "    <tr>\n",
       "      <th>0</th>\n",
       "      <td>9</td>\n",
       "      <td>16</td>\n",
       "      <td>12</td>\n",
       "      <td>0</td>\n",
       "      <td>5</td>\n",
       "      <td>7</td>\n",
       "      <td>8</td>\n",
       "      <td>7</td>\n",
       "      <td>5</td>\n",
       "      <td>0.44</td>\n",
       "      <td>...</td>\n",
       "      <td>0.72</td>\n",
       "      <td>0</td>\n",
       "      <td>10.000</td>\n",
       "      <td>303.8</td>\n",
       "      <td>0.30</td>\n",
       "      <td>0.1276</td>\n",
       "      <td>39.89</td>\n",
       "      <td>43.68</td>\n",
       "      <td>33.73</td>\n",
       "      <td>38.07</td>\n",
       "    </tr>\n",
       "    <tr>\n",
       "      <th>1</th>\n",
       "      <td>2</td>\n",
       "      <td>27</td>\n",
       "      <td>11</td>\n",
       "      <td>0</td>\n",
       "      <td>5</td>\n",
       "      <td>7</td>\n",
       "      <td>12</td>\n",
       "      <td>2</td>\n",
       "      <td>11</td>\n",
       "      <td>0.44</td>\n",
       "      <td>...</td>\n",
       "      <td>1.00</td>\n",
       "      <td>0</td>\n",
       "      <td>4.786</td>\n",
       "      <td>291.1</td>\n",
       "      <td>0.64</td>\n",
       "      <td>0.1300</td>\n",
       "      <td>40.49</td>\n",
       "      <td>47.30</td>\n",
       "      <td>36.20</td>\n",
       "      <td>43.92</td>\n",
       "    </tr>\n",
       "    <tr>\n",
       "      <th>2</th>\n",
       "      <td>1</td>\n",
       "      <td>28</td>\n",
       "      <td>11</td>\n",
       "      <td>0</td>\n",
       "      <td>5</td>\n",
       "      <td>7</td>\n",
       "      <td>7</td>\n",
       "      <td>5</td>\n",
       "      <td>7</td>\n",
       "      <td>0.44</td>\n",
       "      <td>...</td>\n",
       "      <td>0.03</td>\n",
       "      <td>0</td>\n",
       "      <td>10.000</td>\n",
       "      <td>315.7</td>\n",
       "      <td>0.68</td>\n",
       "      <td>0.1064</td>\n",
       "      <td>35.36</td>\n",
       "      <td>47.55</td>\n",
       "      <td>31.04</td>\n",
       "      <td>44.12</td>\n",
       "    </tr>\n",
       "    <tr>\n",
       "      <th>3</th>\n",
       "      <td>4</td>\n",
       "      <td>30</td>\n",
       "      <td>11</td>\n",
       "      <td>0</td>\n",
       "      <td>5</td>\n",
       "      <td>7</td>\n",
       "      <td>10</td>\n",
       "      <td>4</td>\n",
       "      <td>26</td>\n",
       "      <td>0.44</td>\n",
       "      <td>...</td>\n",
       "      <td>0.00</td>\n",
       "      <td>0</td>\n",
       "      <td>10.000</td>\n",
       "      <td>291.1</td>\n",
       "      <td>0.75</td>\n",
       "      <td>0.0000</td>\n",
       "      <td>34.67</td>\n",
       "      <td>45.03</td>\n",
       "      <td>30.30</td>\n",
       "      <td>38.53</td>\n",
       "    </tr>\n",
       "    <tr>\n",
       "      <th>4</th>\n",
       "      <td>3</td>\n",
       "      <td>29</td>\n",
       "      <td>11</td>\n",
       "      <td>0</td>\n",
       "      <td>5</td>\n",
       "      <td>7</td>\n",
       "      <td>11</td>\n",
       "      <td>6</td>\n",
       "      <td>9</td>\n",
       "      <td>0.44</td>\n",
       "      <td>...</td>\n",
       "      <td>0.44</td>\n",
       "      <td>0</td>\n",
       "      <td>10.000</td>\n",
       "      <td>347.7</td>\n",
       "      <td>0.72</td>\n",
       "      <td>0.0001</td>\n",
       "      <td>33.10</td>\n",
       "      <td>42.18</td>\n",
       "      <td>29.11</td>\n",
       "      <td>35.75</td>\n",
       "    </tr>\n",
       "  </tbody>\n",
       "</table>\n",
       "<p>5 rows × 40 columns</p>\n",
       "</div>"
      ],
      "text/plain": [
       "   hour  day  month  timezone  source  destination  product_id  name  price  \\\n",
       "0     9   16     12         0       5            7           8     7      5   \n",
       "1     2   27     11         0       5            7          12     2     11   \n",
       "2     1   28     11         0       5            7           7     5      7   \n",
       "3     4   30     11         0       5            7          10     4     26   \n",
       "4     3   29     11         0       5            7          11     6      9   \n",
       "\n",
       "   distance  ...  cloudCover  uvIndex  visibility.1  ozone  moonPhase  \\\n",
       "0      0.44  ...        0.72        0        10.000  303.8       0.30   \n",
       "1      0.44  ...        1.00        0         4.786  291.1       0.64   \n",
       "2      0.44  ...        0.03        0        10.000  315.7       0.68   \n",
       "3      0.44  ...        0.00        0        10.000  291.1       0.75   \n",
       "4      0.44  ...        0.44        0        10.000  347.7       0.72   \n",
       "\n",
       "   precipIntensityMax  temperatureMin  temperatureMax  apparentTemperatureMin  \\\n",
       "0              0.1276           39.89           43.68                   33.73   \n",
       "1              0.1300           40.49           47.30                   36.20   \n",
       "2              0.1064           35.36           47.55                   31.04   \n",
       "3              0.0000           34.67           45.03                   30.30   \n",
       "4              0.0001           33.10           42.18                   29.11   \n",
       "\n",
       "   apparentTemperatureMax  \n",
       "0                   38.07  \n",
       "1                   43.92  \n",
       "2                   44.12  \n",
       "3                   38.53  \n",
       "4                   35.75  \n",
       "\n",
       "[5 rows x 40 columns]"
      ]
     },
     "execution_count": 58,
     "metadata": {},
     "output_type": "execute_result"
    }
   ],
   "source": [
    "XX.head()"
   ]
  },
  {
   "cell_type": "markdown",
   "id": "fcd171d9",
   "metadata": {},
   "source": [
    "25 Columns After RFE"
   ]
  },
  {
   "cell_type": "code",
   "execution_count": 59,
   "id": "54d3f2fd",
   "metadata": {
    "scrolled": true
   },
   "outputs": [
    {
     "data": {
      "text/plain": [
       "Index(['hour', 'day', 'month', 'timezone', 'source', 'destination',\n",
       "       'product_id', 'name', 'price', 'distance', 'surge_multiplier',\n",
       "       'latitude', 'longitude', 'temperature', 'apparentTemperature',\n",
       "       'short_summary', 'long_summary', 'precipIntensity', 'precipProbability',\n",
       "       'humidity', 'windGust', 'visibility', 'temperatureHigh',\n",
       "       'temperatureLow', 'apparentTemperatureHigh', 'apparentTemperatureLow',\n",
       "       'icon', 'dewPoint', 'pressure', 'windBearing', 'cloudCover', 'uvIndex',\n",
       "       'visibility.1', 'ozone', 'moonPhase', 'precipIntensityMax',\n",
       "       'temperatureMin', 'temperatureMax', 'apparentTemperatureMin',\n",
       "       'apparentTemperatureMax'],\n",
       "      dtype='object')"
      ]
     },
     "execution_count": 59,
     "metadata": {},
     "output_type": "execute_result"
    }
   ],
   "source": [
    "XX.columns"
   ]
  },
  {
   "cell_type": "code",
   "execution_count": 60,
   "id": "170ec51d",
   "metadata": {},
   "outputs": [
    {
     "data": {
      "text/plain": [
       "(693071, 40)"
      ]
     },
     "execution_count": 60,
     "metadata": {},
     "output_type": "execute_result"
    }
   ],
   "source": [
    "XX.shape"
   ]
  },
  {
   "cell_type": "code",
   "execution_count": 61,
   "id": "65812593",
   "metadata": {},
   "outputs": [
    {
     "data": {
      "text/html": [
       "<div>\n",
       "<style scoped>\n",
       "    .dataframe tbody tr th:only-of-type {\n",
       "        vertical-align: middle;\n",
       "    }\n",
       "\n",
       "    .dataframe tbody tr th {\n",
       "        vertical-align: top;\n",
       "    }\n",
       "\n",
       "    .dataframe thead th {\n",
       "        text-align: right;\n",
       "    }\n",
       "</style>\n",
       "<table border=\"1\" class=\"dataframe\">\n",
       "  <thead>\n",
       "    <tr style=\"text-align: right;\">\n",
       "      <th></th>\n",
       "      <th>hour</th>\n",
       "      <th>day</th>\n",
       "      <th>month</th>\n",
       "      <th>timezone</th>\n",
       "      <th>source</th>\n",
       "      <th>destination</th>\n",
       "      <th>product_id</th>\n",
       "      <th>name</th>\n",
       "      <th>price</th>\n",
       "      <th>distance</th>\n",
       "      <th>...</th>\n",
       "      <th>cloudCover</th>\n",
       "      <th>uvIndex</th>\n",
       "      <th>visibility.1</th>\n",
       "      <th>ozone</th>\n",
       "      <th>moonPhase</th>\n",
       "      <th>precipIntensityMax</th>\n",
       "      <th>temperatureMin</th>\n",
       "      <th>temperatureMax</th>\n",
       "      <th>apparentTemperatureMin</th>\n",
       "      <th>apparentTemperatureMax</th>\n",
       "    </tr>\n",
       "  </thead>\n",
       "  <tbody>\n",
       "    <tr>\n",
       "      <th>0</th>\n",
       "      <td>9</td>\n",
       "      <td>16</td>\n",
       "      <td>12</td>\n",
       "      <td>0</td>\n",
       "      <td>5</td>\n",
       "      <td>7</td>\n",
       "      <td>8</td>\n",
       "      <td>7</td>\n",
       "      <td>5</td>\n",
       "      <td>0.44</td>\n",
       "      <td>...</td>\n",
       "      <td>0.72</td>\n",
       "      <td>0</td>\n",
       "      <td>10.000</td>\n",
       "      <td>303.8</td>\n",
       "      <td>0.30</td>\n",
       "      <td>0.1276</td>\n",
       "      <td>39.89</td>\n",
       "      <td>43.68</td>\n",
       "      <td>33.73</td>\n",
       "      <td>38.07</td>\n",
       "    </tr>\n",
       "    <tr>\n",
       "      <th>1</th>\n",
       "      <td>2</td>\n",
       "      <td>27</td>\n",
       "      <td>11</td>\n",
       "      <td>0</td>\n",
       "      <td>5</td>\n",
       "      <td>7</td>\n",
       "      <td>12</td>\n",
       "      <td>2</td>\n",
       "      <td>11</td>\n",
       "      <td>0.44</td>\n",
       "      <td>...</td>\n",
       "      <td>1.00</td>\n",
       "      <td>0</td>\n",
       "      <td>4.786</td>\n",
       "      <td>291.1</td>\n",
       "      <td>0.64</td>\n",
       "      <td>0.1300</td>\n",
       "      <td>40.49</td>\n",
       "      <td>47.30</td>\n",
       "      <td>36.20</td>\n",
       "      <td>43.92</td>\n",
       "    </tr>\n",
       "    <tr>\n",
       "      <th>2</th>\n",
       "      <td>1</td>\n",
       "      <td>28</td>\n",
       "      <td>11</td>\n",
       "      <td>0</td>\n",
       "      <td>5</td>\n",
       "      <td>7</td>\n",
       "      <td>7</td>\n",
       "      <td>5</td>\n",
       "      <td>7</td>\n",
       "      <td>0.44</td>\n",
       "      <td>...</td>\n",
       "      <td>0.03</td>\n",
       "      <td>0</td>\n",
       "      <td>10.000</td>\n",
       "      <td>315.7</td>\n",
       "      <td>0.68</td>\n",
       "      <td>0.1064</td>\n",
       "      <td>35.36</td>\n",
       "      <td>47.55</td>\n",
       "      <td>31.04</td>\n",
       "      <td>44.12</td>\n",
       "    </tr>\n",
       "    <tr>\n",
       "      <th>3</th>\n",
       "      <td>4</td>\n",
       "      <td>30</td>\n",
       "      <td>11</td>\n",
       "      <td>0</td>\n",
       "      <td>5</td>\n",
       "      <td>7</td>\n",
       "      <td>10</td>\n",
       "      <td>4</td>\n",
       "      <td>26</td>\n",
       "      <td>0.44</td>\n",
       "      <td>...</td>\n",
       "      <td>0.00</td>\n",
       "      <td>0</td>\n",
       "      <td>10.000</td>\n",
       "      <td>291.1</td>\n",
       "      <td>0.75</td>\n",
       "      <td>0.0000</td>\n",
       "      <td>34.67</td>\n",
       "      <td>45.03</td>\n",
       "      <td>30.30</td>\n",
       "      <td>38.53</td>\n",
       "    </tr>\n",
       "    <tr>\n",
       "      <th>4</th>\n",
       "      <td>3</td>\n",
       "      <td>29</td>\n",
       "      <td>11</td>\n",
       "      <td>0</td>\n",
       "      <td>5</td>\n",
       "      <td>7</td>\n",
       "      <td>11</td>\n",
       "      <td>6</td>\n",
       "      <td>9</td>\n",
       "      <td>0.44</td>\n",
       "      <td>...</td>\n",
       "      <td>0.44</td>\n",
       "      <td>0</td>\n",
       "      <td>10.000</td>\n",
       "      <td>347.7</td>\n",
       "      <td>0.72</td>\n",
       "      <td>0.0001</td>\n",
       "      <td>33.10</td>\n",
       "      <td>42.18</td>\n",
       "      <td>29.11</td>\n",
       "      <td>35.75</td>\n",
       "    </tr>\n",
       "  </tbody>\n",
       "</table>\n",
       "<p>5 rows × 40 columns</p>\n",
       "</div>"
      ],
      "text/plain": [
       "   hour  day  month  timezone  source  destination  product_id  name  price  \\\n",
       "0     9   16     12         0       5            7           8     7      5   \n",
       "1     2   27     11         0       5            7          12     2     11   \n",
       "2     1   28     11         0       5            7           7     5      7   \n",
       "3     4   30     11         0       5            7          10     4     26   \n",
       "4     3   29     11         0       5            7          11     6      9   \n",
       "\n",
       "   distance  ...  cloudCover  uvIndex  visibility.1  ozone  moonPhase  \\\n",
       "0      0.44  ...        0.72        0        10.000  303.8       0.30   \n",
       "1      0.44  ...        1.00        0         4.786  291.1       0.64   \n",
       "2      0.44  ...        0.03        0        10.000  315.7       0.68   \n",
       "3      0.44  ...        0.00        0        10.000  291.1       0.75   \n",
       "4      0.44  ...        0.44        0        10.000  347.7       0.72   \n",
       "\n",
       "   precipIntensityMax  temperatureMin  temperatureMax  apparentTemperatureMin  \\\n",
       "0              0.1276           39.89           43.68                   33.73   \n",
       "1              0.1300           40.49           47.30                   36.20   \n",
       "2              0.1064           35.36           47.55                   31.04   \n",
       "3              0.0000           34.67           45.03                   30.30   \n",
       "4              0.0001           33.10           42.18                   29.11   \n",
       "\n",
       "   apparentTemperatureMax  \n",
       "0                   38.07  \n",
       "1                   43.92  \n",
       "2                   44.12  \n",
       "3                   38.53  \n",
       "4                   35.75  \n",
       "\n",
       "[5 rows x 40 columns]"
      ]
     },
     "execution_count": 61,
     "metadata": {},
     "output_type": "execute_result"
    }
   ],
   "source": [
    "XX.head()"
   ]
  },
  {
   "cell_type": "markdown",
   "id": "fb574769",
   "metadata": {},
   "source": [
    "Drop Useless Features"
   ]
  },
  {
   "cell_type": "code",
   "execution_count": 62,
   "id": "2b81ddd2",
   "metadata": {},
   "outputs": [],
   "source": [
    "features_drop = ['latitude', 'longitude', 'apparentTemperature',\n",
    "       'long_summary', 'precipIntensity', 'humidity', 'windGust',\n",
    "       'temperatureHigh', 'apparentTemperatureHigh', 'dewPoint','precipIntensityMax',\n",
    "       'temperatureMax', 'apparentTemperatureMax', 'distance', 'cloudCover', 'moonPhase', 'temperatureLow', 'apparentTemperatureLow',\n",
    "        'windBearing', 'visibility.1', 'temperatureMin', 'apparentTemperatureMin', 'short_summary', 'precipProbability',\n",
    "         'visibility', 'temperature', 'pressure', 'ozone', 'hour', 'timezone', 'day', 'price']"
   ]
  },
  {
   "cell_type": "code",
   "execution_count": 63,
   "id": "c4d6f109",
   "metadata": {},
   "outputs": [],
   "source": [
    "new_uber = XX.drop(features_drop, axis=1)"
   ]
  },
  {
   "cell_type": "code",
   "execution_count": 64,
   "id": "b8f31801",
   "metadata": {},
   "outputs": [
    {
     "data": {
      "text/html": [
       "<div>\n",
       "<style scoped>\n",
       "    .dataframe tbody tr th:only-of-type {\n",
       "        vertical-align: middle;\n",
       "    }\n",
       "\n",
       "    .dataframe tbody tr th {\n",
       "        vertical-align: top;\n",
       "    }\n",
       "\n",
       "    .dataframe thead th {\n",
       "        text-align: right;\n",
       "    }\n",
       "</style>\n",
       "<table border=\"1\" class=\"dataframe\">\n",
       "  <thead>\n",
       "    <tr style=\"text-align: right;\">\n",
       "      <th></th>\n",
       "      <th>month</th>\n",
       "      <th>source</th>\n",
       "      <th>destination</th>\n",
       "      <th>product_id</th>\n",
       "      <th>name</th>\n",
       "      <th>surge_multiplier</th>\n",
       "      <th>icon</th>\n",
       "      <th>uvIndex</th>\n",
       "    </tr>\n",
       "  </thead>\n",
       "  <tbody>\n",
       "    <tr>\n",
       "      <th>0</th>\n",
       "      <td>12</td>\n",
       "      <td>5</td>\n",
       "      <td>7</td>\n",
       "      <td>8</td>\n",
       "      <td>7</td>\n",
       "      <td>1.0</td>\n",
       "      <td>5</td>\n",
       "      <td>0</td>\n",
       "    </tr>\n",
       "    <tr>\n",
       "      <th>1</th>\n",
       "      <td>11</td>\n",
       "      <td>5</td>\n",
       "      <td>7</td>\n",
       "      <td>12</td>\n",
       "      <td>2</td>\n",
       "      <td>1.0</td>\n",
       "      <td>6</td>\n",
       "      <td>0</td>\n",
       "    </tr>\n",
       "    <tr>\n",
       "      <th>2</th>\n",
       "      <td>11</td>\n",
       "      <td>5</td>\n",
       "      <td>7</td>\n",
       "      <td>7</td>\n",
       "      <td>5</td>\n",
       "      <td>1.0</td>\n",
       "      <td>1</td>\n",
       "      <td>0</td>\n",
       "    </tr>\n",
       "    <tr>\n",
       "      <th>3</th>\n",
       "      <td>11</td>\n",
       "      <td>5</td>\n",
       "      <td>7</td>\n",
       "      <td>10</td>\n",
       "      <td>4</td>\n",
       "      <td>1.0</td>\n",
       "      <td>1</td>\n",
       "      <td>0</td>\n",
       "    </tr>\n",
       "    <tr>\n",
       "      <th>4</th>\n",
       "      <td>11</td>\n",
       "      <td>5</td>\n",
       "      <td>7</td>\n",
       "      <td>11</td>\n",
       "      <td>6</td>\n",
       "      <td>1.0</td>\n",
       "      <td>5</td>\n",
       "      <td>0</td>\n",
       "    </tr>\n",
       "  </tbody>\n",
       "</table>\n",
       "</div>"
      ],
      "text/plain": [
       "   month  source  destination  product_id  name  surge_multiplier  icon  \\\n",
       "0     12       5            7           8     7               1.0     5   \n",
       "1     11       5            7          12     2               1.0     6   \n",
       "2     11       5            7           7     5               1.0     1   \n",
       "3     11       5            7          10     4               1.0     1   \n",
       "4     11       5            7          11     6               1.0     5   \n",
       "\n",
       "   uvIndex  \n",
       "0        0  \n",
       "1        0  \n",
       "2        0  \n",
       "3        0  \n",
       "4        0  "
      ]
     },
     "execution_count": 64,
     "metadata": {},
     "output_type": "execute_result"
    }
   ],
   "source": [
    "new_uber.head()"
   ]
  },
  {
   "cell_type": "code",
   "execution_count": 65,
   "id": "69f8793f",
   "metadata": {},
   "outputs": [],
   "source": [
    "# Using Skicit-learn to split data into training and testing sets\n",
    "from sklearn.model_selection import train_test_split\n",
    "# Split the data into training and testing sets\n",
    "xx_train, xx_test, yy_train, yy_test = train_test_split(new_uber, y, test_size = 0.2, random_state = 42)"
   ]
  },
  {
   "cell_type": "code",
   "execution_count": 66,
   "id": "73933b5e",
   "metadata": {},
   "outputs": [
    {
     "data": {
      "text/plain": [
       "(554456, 8)"
      ]
     },
     "execution_count": 66,
     "metadata": {},
     "output_type": "execute_result"
    }
   ],
   "source": [
    "xx_train.shape"
   ]
  },
  {
   "cell_type": "code",
   "execution_count": 67,
   "id": "279f43b9",
   "metadata": {},
   "outputs": [
    {
     "data": {
      "text/plain": [
       "(138615, 8)"
      ]
     },
     "execution_count": 67,
     "metadata": {},
     "output_type": "execute_result"
    }
   ],
   "source": [
    "xx_test.shape"
   ]
  },
  {
   "cell_type": "code",
   "execution_count": 68,
   "id": "059d42f5",
   "metadata": {},
   "outputs": [
    {
     "data": {
      "text/plain": [
       "(554456,)"
      ]
     },
     "execution_count": 68,
     "metadata": {},
     "output_type": "execute_result"
    }
   ],
   "source": [
    "yy_train.shape"
   ]
  },
  {
   "cell_type": "code",
   "execution_count": 69,
   "id": "fca3a9df",
   "metadata": {},
   "outputs": [
    {
     "data": {
      "text/plain": [
       "(138615,)"
      ]
     },
     "execution_count": 69,
     "metadata": {},
     "output_type": "execute_result"
    }
   ],
   "source": [
    "yy_test.shape"
   ]
  },
  {
   "cell_type": "markdown",
   "id": "5b310934",
   "metadata": {},
   "source": [
    "Linear regression"
   ]
  },
  {
   "cell_type": "code",
   "execution_count": 70,
   "id": "9b3354ba",
   "metadata": {},
   "outputs": [
    {
     "data": {
      "text/plain": [
       "0.3846793285705299"
      ]
     },
     "execution_count": 70,
     "metadata": {},
     "output_type": "execute_result"
    }
   ],
   "source": [
    "linear = LinearRegression()\n",
    "linear.fit(xx_train, yy_train)\n",
    "linear.score(xx_test, yy_test)"
   ]
  },
  {
   "cell_type": "markdown",
   "id": "449f7afa",
   "metadata": {},
   "source": [
    "Decision tree"
   ]
  },
  {
   "cell_type": "code",
   "execution_count": 71,
   "id": "a6382d42",
   "metadata": {},
   "outputs": [
    {
     "data": {
      "text/plain": [
       "0.9560318452149013"
      ]
     },
     "execution_count": 71,
     "metadata": {},
     "output_type": "execute_result"
    }
   ],
   "source": [
    "decision = DecisionTreeRegressor(random_state = 0)  \n",
    "decision.fit(xx_train , yy_train) \n",
    "decision.score(xx_test, yy_test)"
   ]
  },
  {
   "cell_type": "code",
   "execution_count": 72,
   "id": "7a50bfec",
   "metadata": {},
   "outputs": [
    {
     "data": {
      "text/plain": [
       "0.9571995732744829"
      ]
     },
     "execution_count": 72,
     "metadata": {},
     "output_type": "execute_result"
    }
   ],
   "source": [
    "random = RandomForestRegressor(n_estimators = 100, random_state = 0) \n",
    "random.fit(xx_train , yy_train)  \n",
    "random.score(xx_test, yy_test)"
   ]
  },
  {
   "cell_type": "markdown",
   "id": "270148d6",
   "metadata": {},
   "source": [
    "# Testing"
   ]
  },
  {
   "cell_type": "code",
   "execution_count": 73,
   "id": "a7abc752",
   "metadata": {},
   "outputs": [
    {
     "data": {
      "text/plain": [
       "array([ 1.48199381e-02, -4.44478786e-02, -1.15383172e-01, -1.50158680e-01,\n",
       "       -1.37488687e+00,  1.99821782e+01,  1.79395225e-03,  1.94245471e-02])"
      ]
     },
     "execution_count": 73,
     "metadata": {},
     "output_type": "execute_result"
    }
   ],
   "source": [
    "linear.coef_"
   ]
  },
  {
   "cell_type": "code",
   "execution_count": 74,
   "id": "1e82b4c6",
   "metadata": {},
   "outputs": [
    {
     "data": {
      "text/plain": [
       "array([10.5505888 , 14.38177693, 13.47777752, ..., 11.3399761 ,\n",
       "       18.49312787, 20.58912505])"
      ]
     },
     "execution_count": 74,
     "metadata": {},
     "output_type": "execute_result"
    }
   ],
   "source": [
    "prediction = linear.predict(xx_test)\n",
    "prediction"
   ]
  },
  {
   "cell_type": "code",
   "execution_count": 75,
   "id": "c9c4d352",
   "metadata": {},
   "outputs": [],
   "source": [
    "prediction=  prediction.astype(int)"
   ]
  },
  {
   "cell_type": "code",
   "execution_count": 76,
   "id": "0bb472fe",
   "metadata": {},
   "outputs": [
    {
     "name": "stdout",
     "output_type": "stream",
     "text": [
      "MAE :   5.312289434765357\n",
      "MSE :   49.74074234390218\n",
      "RMAE :   7.052711701459388\n"
     ]
    }
   ],
   "source": [
    "from sklearn import metrics\n",
    "print('MAE :',\" \", metrics.mean_absolute_error(yy_test,prediction))\n",
    "print('MSE :',\" \", metrics.mean_squared_error(yy_test,prediction))\n",
    "print('RMAE :',\" \", np.sqrt(metrics.mean_squared_error(yy_test,prediction)))"
   ]
  },
  {
   "cell_type": "markdown",
   "id": "36f82ae8",
   "metadata": {},
   "source": [
    "# Price prediction function "
   ]
  },
  {
   "cell_type": "code",
   "execution_count": 77,
   "id": "53a862b9",
   "metadata": {},
   "outputs": [
    {
     "data": {
      "text/html": [
       "<div>\n",
       "<style scoped>\n",
       "    .dataframe tbody tr th:only-of-type {\n",
       "        vertical-align: middle;\n",
       "    }\n",
       "\n",
       "    .dataframe tbody tr th {\n",
       "        vertical-align: top;\n",
       "    }\n",
       "\n",
       "    .dataframe thead th {\n",
       "        text-align: right;\n",
       "    }\n",
       "</style>\n",
       "<table border=\"1\" class=\"dataframe\">\n",
       "  <thead>\n",
       "    <tr style=\"text-align: right;\">\n",
       "      <th></th>\n",
       "      <th>month</th>\n",
       "      <th>source</th>\n",
       "      <th>destination</th>\n",
       "      <th>product_id</th>\n",
       "      <th>name</th>\n",
       "      <th>surge_multiplier</th>\n",
       "      <th>icon</th>\n",
       "      <th>uvIndex</th>\n",
       "    </tr>\n",
       "  </thead>\n",
       "  <tbody>\n",
       "    <tr>\n",
       "      <th>0</th>\n",
       "      <td>12</td>\n",
       "      <td>5</td>\n",
       "      <td>7</td>\n",
       "      <td>8</td>\n",
       "      <td>7</td>\n",
       "      <td>1.0</td>\n",
       "      <td>5</td>\n",
       "      <td>0</td>\n",
       "    </tr>\n",
       "    <tr>\n",
       "      <th>1</th>\n",
       "      <td>11</td>\n",
       "      <td>5</td>\n",
       "      <td>7</td>\n",
       "      <td>12</td>\n",
       "      <td>2</td>\n",
       "      <td>1.0</td>\n",
       "      <td>6</td>\n",
       "      <td>0</td>\n",
       "    </tr>\n",
       "    <tr>\n",
       "      <th>2</th>\n",
       "      <td>11</td>\n",
       "      <td>5</td>\n",
       "      <td>7</td>\n",
       "      <td>7</td>\n",
       "      <td>5</td>\n",
       "      <td>1.0</td>\n",
       "      <td>1</td>\n",
       "      <td>0</td>\n",
       "    </tr>\n",
       "    <tr>\n",
       "      <th>3</th>\n",
       "      <td>11</td>\n",
       "      <td>5</td>\n",
       "      <td>7</td>\n",
       "      <td>10</td>\n",
       "      <td>4</td>\n",
       "      <td>1.0</td>\n",
       "      <td>1</td>\n",
       "      <td>0</td>\n",
       "    </tr>\n",
       "    <tr>\n",
       "      <th>4</th>\n",
       "      <td>11</td>\n",
       "      <td>5</td>\n",
       "      <td>7</td>\n",
       "      <td>11</td>\n",
       "      <td>6</td>\n",
       "      <td>1.0</td>\n",
       "      <td>5</td>\n",
       "      <td>0</td>\n",
       "    </tr>\n",
       "  </tbody>\n",
       "</table>\n",
       "</div>"
      ],
      "text/plain": [
       "   month  source  destination  product_id  name  surge_multiplier  icon  \\\n",
       "0     12       5            7           8     7               1.0     5   \n",
       "1     11       5            7          12     2               1.0     6   \n",
       "2     11       5            7           7     5               1.0     1   \n",
       "3     11       5            7          10     4               1.0     1   \n",
       "4     11       5            7          11     6               1.0     5   \n",
       "\n",
       "   uvIndex  \n",
       "0        0  \n",
       "1        0  \n",
       "2        0  \n",
       "3        0  \n",
       "4        0  "
      ]
     },
     "execution_count": 77,
     "metadata": {},
     "output_type": "execute_result"
    }
   ],
   "source": [
    "new_uber.head()"
   ]
  },
  {
   "cell_type": "code",
   "execution_count": 297,
   "id": "5976ba11",
   "metadata": {},
   "outputs": [],
   "source": [
    "def predict_price(name,source,surge_multiplier,icon):    \n",
    "    loc_index = np.where(new_uber.columns==name)[0]\n",
    "\n",
    "    x = np.zeros(len(new_uber.columns))\n",
    "    x[0] = source\n",
    "    x[1] = surge_multiplier\n",
    "    x[2] = icon\n",
    "    if loc_index >= 0:\n",
    "        x[loc_index] = 1\n",
    "\n",
    "    return random.predict([x])[0]"
   ]
  },
  {
   "cell_type": "code",
   "execution_count": 298,
   "id": "dc631334",
   "metadata": {},
   "outputs": [],
   "source": [
    "pre= random.predict(xx_test)"
   ]
  },
  {
   "cell_type": "code",
   "execution_count": 299,
   "id": "894c0bd1",
   "metadata": {},
   "outputs": [
    {
     "name": "stderr",
     "output_type": "stream",
     "text": [
      "<ipython-input-297-884828bfaf47>:8: DeprecationWarning: The truth value of an empty array is ambiguous. Returning False, but in future this will result in an error. Use `array.size > 0` to check that an array is not empty.\n",
      "  if loc_index >= 0:\n"
     ]
    },
    {
     "data": {
      "text/plain": [
       "15.902894847842212"
      ]
     },
     "execution_count": 299,
     "metadata": {},
     "output_type": "execute_result"
    }
   ],
   "source": [
    "predict_price(1 , 3, 2, 0)"
   ]
  },
  {
   "cell_type": "code",
   "execution_count": null,
   "id": "8bc73a4f",
   "metadata": {},
   "outputs": [],
   "source": []
  }
 ],
 "metadata": {
  "kernelspec": {
   "display_name": "Python 3",
   "language": "python",
   "name": "python3"
  },
  "language_info": {
   "codemirror_mode": {
    "name": "ipython",
    "version": 3
   },
   "file_extension": ".py",
   "mimetype": "text/x-python",
   "name": "python",
   "nbconvert_exporter": "python",
   "pygments_lexer": "ipython3",
   "version": "3.8.8"
  }
 },
 "nbformat": 4,
 "nbformat_minor": 5
}
